{
 "cells": [
  {
   "cell_type": "markdown",
   "metadata": {},
   "source": [
    "# Error Handling in Python\n",
    "Discusses techniques that can be used to handle errors in Python. This generally uses `try/except` to handle the errors.\n",
    "\n",
    "\n",
    "As a side note, another possible way to handle errors is using `suppress`. More details for `suppress` can be read in this article:\n",
    "\n",
    "https://towardsdatascience.com/quick-python-tip-suppress-known-exception-without-try-except-a93ec34d3704"
   ]
  },
  {
   "cell_type": "markdown",
   "metadata": {},
   "source": [
    "## try/except\n",
    "`try` block contains the application code where the error occurs and the `except` block determines the error that will handled. If the error is not within of the `except`'s scope, it will throw the error to the application instead of gracefully handling it. Useful when we don't want the application to suddenly stop when there is an error."
   ]
  },
  {
   "cell_type": "code",
   "execution_count": 2,
   "metadata": {},
   "outputs": [
    {
     "name": "stdout",
     "output_type": "stream",
     "text": [
      "I cannot divide by zero!\n"
     ]
    }
   ],
   "source": [
    "try:\n",
    "    input_value = input('Enter an integer:')\n",
    "    print(f'10 divided by your integer is: {10/int(input_value)}')\n",
    "except ValueError as e:\n",
    "    print(f'`{input_value}` is not an integer!')\n",
    "    print(f'The error was:\\n\\t{e}')\n",
    "except ZeroDivisionError:\n",
    "    print('I cannot divide by zero!')"
   ]
  },
  {
   "cell_type": "markdown",
   "metadata": {},
   "source": [
    "## raise\n",
    "`raise` throws an error on the application. Useful when a function needs to stop continuing (or possible end the program) if a condition is met."
   ]
  },
  {
   "cell_type": "code",
   "execution_count": 3,
   "metadata": {},
   "outputs": [
    {
     "name": "stdout",
     "output_type": "stream",
     "text": [
      "get_patents(url=\"patentsview.org\")=['computer', 'programming']\n"
     ]
    },
    {
     "ename": "ConnectionRefusedError",
     "evalue": "You don't have permissions to visit: google.com",
     "output_type": "error",
     "traceback": [
      "\u001b[0;31m---------------------------------------------------------------------------\u001b[0m",
      "\u001b[0;31mConnectionRefusedError\u001b[0m                    Traceback (most recent call last)",
      "\u001b[1;32m/home/rakercy/research/programming_lessons/10_error_handling.ipynb Cell 5'\u001b[0m in \u001b[0;36m<cell line: 14>\u001b[0;34m()\u001b[0m\n\u001b[1;32m      <a href='vscode-notebook-cell:/home/rakercy/research/programming_lessons/10_error_handling.ipynb#ch0000004?line=8'>9</a>\u001b[0m     \u001b[39mreturn\u001b[39;00m [\u001b[39m'\u001b[39m\u001b[39mcomputer\u001b[39m\u001b[39m'\u001b[39m, \u001b[39m'\u001b[39m\u001b[39mprogramming\u001b[39m\u001b[39m'\u001b[39m]\n\u001b[1;32m     <a href='vscode-notebook-cell:/home/rakercy/research/programming_lessons/10_error_handling.ipynb#ch0000004?line=10'>11</a>\u001b[0m \u001b[39mprint\u001b[39m(\n\u001b[1;32m     <a href='vscode-notebook-cell:/home/rakercy/research/programming_lessons/10_error_handling.ipynb#ch0000004?line=11'>12</a>\u001b[0m     \u001b[39mf\u001b[39m\u001b[39m'\u001b[39m\u001b[39m{\u001b[39;00mget_patents(url\u001b[39m=\u001b[39m\u001b[39m\"\u001b[39m\u001b[39mpatentsview.org\u001b[39m\u001b[39m\"\u001b[39m)\u001b[39m=}\u001b[39;00m\u001b[39m'\u001b[39m\n\u001b[1;32m     <a href='vscode-notebook-cell:/home/rakercy/research/programming_lessons/10_error_handling.ipynb#ch0000004?line=12'>13</a>\u001b[0m )\n\u001b[1;32m     <a href='vscode-notebook-cell:/home/rakercy/research/programming_lessons/10_error_handling.ipynb#ch0000004?line=13'>14</a>\u001b[0m \u001b[39mprint\u001b[39m(\n\u001b[0;32m---> <a href='vscode-notebook-cell:/home/rakercy/research/programming_lessons/10_error_handling.ipynb#ch0000004?line=14'>15</a>\u001b[0m     \u001b[39mf\u001b[39m\u001b[39m'\u001b[39m\u001b[39m{\u001b[39;00mget_patents(url\u001b[39m=\u001b[39m\u001b[39m\"\u001b[39m\u001b[39mgoogle.com\u001b[39m\u001b[39m\"\u001b[39m)\u001b[39m=}\u001b[39;00m\u001b[39m'\u001b[39m\n\u001b[1;32m     <a href='vscode-notebook-cell:/home/rakercy/research/programming_lessons/10_error_handling.ipynb#ch0000004?line=15'>16</a>\u001b[0m )\n\u001b[1;32m     <a href='vscode-notebook-cell:/home/rakercy/research/programming_lessons/10_error_handling.ipynb#ch0000004?line=16'>17</a>\u001b[0m \u001b[39mprint\u001b[39m(\n\u001b[1;32m     <a href='vscode-notebook-cell:/home/rakercy/research/programming_lessons/10_error_handling.ipynb#ch0000004?line=17'>18</a>\u001b[0m     \u001b[39mf\u001b[39m\u001b[39m'\u001b[39m\u001b[39m{\u001b[39;00mget_patents(url\u001b[39m=\u001b[39m\u001b[39m\"\u001b[39m\u001b[39mpatentsview.org\u001b[39m\u001b[39m\"\u001b[39m)\u001b[39m=}\u001b[39;00m\u001b[39m'\u001b[39m\n\u001b[1;32m     <a href='vscode-notebook-cell:/home/rakercy/research/programming_lessons/10_error_handling.ipynb#ch0000004?line=18'>19</a>\u001b[0m )\n",
      "\u001b[1;32m/home/rakercy/research/programming_lessons/10_error_handling.ipynb Cell 5'\u001b[0m in \u001b[0;36mget_patents\u001b[0;34m(url)\u001b[0m\n\u001b[1;32m      <a href='vscode-notebook-cell:/home/rakercy/research/programming_lessons/10_error_handling.ipynb#ch0000004?line=1'>2</a>\u001b[0m \u001b[39m\"\"\"\u001b[39;00m\n\u001b[1;32m      <a href='vscode-notebook-cell:/home/rakercy/research/programming_lessons/10_error_handling.ipynb#ch0000004?line=2'>3</a>\u001b[0m \u001b[39mGets the patents from the URL\u001b[39;00m\n\u001b[1;32m      <a href='vscode-notebook-cell:/home/rakercy/research/programming_lessons/10_error_handling.ipynb#ch0000004?line=3'>4</a>\u001b[0m \u001b[39m\"\"\"\u001b[39;00m\n\u001b[1;32m      <a href='vscode-notebook-cell:/home/rakercy/research/programming_lessons/10_error_handling.ipynb#ch0000004?line=4'>5</a>\u001b[0m \u001b[39mif\u001b[39;00m \u001b[39m'\u001b[39m\u001b[39mgoogle\u001b[39m\u001b[39m'\u001b[39m \u001b[39min\u001b[39;00m url:\n\u001b[0;32m----> <a href='vscode-notebook-cell:/home/rakercy/research/programming_lessons/10_error_handling.ipynb#ch0000004?line=5'>6</a>\u001b[0m     \u001b[39mraise\u001b[39;00m \u001b[39mConnectionRefusedError\u001b[39;00m(\n\u001b[1;32m      <a href='vscode-notebook-cell:/home/rakercy/research/programming_lessons/10_error_handling.ipynb#ch0000004?line=6'>7</a>\u001b[0m         \u001b[39mf\u001b[39m\u001b[39m'\u001b[39m\u001b[39mYou don\u001b[39m\u001b[39m\\'\u001b[39;00m\u001b[39mt have permissions to visit: \u001b[39m\u001b[39m{\u001b[39;00murl\u001b[39m}\u001b[39;00m\u001b[39m'\u001b[39m\n\u001b[1;32m      <a href='vscode-notebook-cell:/home/rakercy/research/programming_lessons/10_error_handling.ipynb#ch0000004?line=7'>8</a>\u001b[0m     )\n\u001b[1;32m      <a href='vscode-notebook-cell:/home/rakercy/research/programming_lessons/10_error_handling.ipynb#ch0000004?line=8'>9</a>\u001b[0m \u001b[39mreturn\u001b[39;00m [\u001b[39m'\u001b[39m\u001b[39mcomputer\u001b[39m\u001b[39m'\u001b[39m, \u001b[39m'\u001b[39m\u001b[39mprogramming\u001b[39m\u001b[39m'\u001b[39m]\n",
      "\u001b[0;31mConnectionRefusedError\u001b[0m: You don't have permissions to visit: google.com"
     ]
    }
   ],
   "source": [
    "def get_patents(url):\n",
    "    \"\"\"\n",
    "    Gets the patents from the URL\n",
    "    \"\"\"\n",
    "    if 'google' in url:\n",
    "        raise ConnectionRefusedError(\n",
    "            f'You don\\'t have permissions to visit: {url}'\n",
    "        )\n",
    "    return ['computer', 'programming']\n",
    "\n",
    "print(\n",
    "    f'{get_patents(url=\"patentsview.org\")=}'\n",
    ")\n",
    "print(\n",
    "    f'{get_patents(url=\"google.com\")=}'\n",
    ")\n",
    "print(\n",
    "    f'{get_patents(url=\"patentsview.org\")=}'\n",
    ")"
   ]
  },
  {
   "cell_type": "markdown",
   "metadata": {},
   "source": [
    "## finally\n",
    "`finally` block is always executed, whether or not there is an error. Useful for cleaning up the connection/files that the application uses."
   ]
  },
  {
   "cell_type": "code",
   "execution_count": 5,
   "metadata": {},
   "outputs": [
    {
     "name": "stdout",
     "output_type": "stream",
     "text": [
      "An error occured within the application!\n",
      "\tYou don't have permissions to visit: google.com\n"
     ]
    },
    {
     "ename": "Exception",
     "evalue": "Another error occured...",
     "output_type": "error",
     "traceback": [
      "\u001b[0;31m---------------------------------------------------------------------------\u001b[0m",
      "\u001b[0;31mConnectionRefusedError\u001b[0m                    Traceback (most recent call last)",
      "\u001b[1;32m/home/rakercy/research/programming_lessons/10_error_handling.ipynb Cell 7'\u001b[0m in \u001b[0;36m<cell line: 14>\u001b[0;34m()\u001b[0m\n\u001b[1;32m     <a href='vscode-notebook-cell:/home/rakercy/research/programming_lessons/10_error_handling.ipynb#ch0000006?line=14'>15</a>\u001b[0m \u001b[39mfor\u001b[39;00m url \u001b[39min\u001b[39;00m urls:\n\u001b[0;32m---> <a href='vscode-notebook-cell:/home/rakercy/research/programming_lessons/10_error_handling.ipynb#ch0000006?line=15'>16</a>\u001b[0m     some_patents \u001b[39m=\u001b[39m get_patents(url\u001b[39m=\u001b[39;49murl)\n\u001b[1;32m     <a href='vscode-notebook-cell:/home/rakercy/research/programming_lessons/10_error_handling.ipynb#ch0000006?line=16'>17</a>\u001b[0m     all_patents\u001b[39m.\u001b[39mextend(some_patents)\n",
      "\u001b[1;32m/home/rakercy/research/programming_lessons/10_error_handling.ipynb Cell 7'\u001b[0m in \u001b[0;36mget_patents\u001b[0;34m(url)\u001b[0m\n\u001b[1;32m      <a href='vscode-notebook-cell:/home/rakercy/research/programming_lessons/10_error_handling.ipynb#ch0000006?line=4'>5</a>\u001b[0m \u001b[39mif\u001b[39;00m \u001b[39m'\u001b[39m\u001b[39mgoogle\u001b[39m\u001b[39m'\u001b[39m \u001b[39min\u001b[39;00m url:\n\u001b[0;32m----> <a href='vscode-notebook-cell:/home/rakercy/research/programming_lessons/10_error_handling.ipynb#ch0000006?line=5'>6</a>\u001b[0m     \u001b[39mraise\u001b[39;00m \u001b[39mConnectionRefusedError\u001b[39;00m(\n\u001b[1;32m      <a href='vscode-notebook-cell:/home/rakercy/research/programming_lessons/10_error_handling.ipynb#ch0000006?line=6'>7</a>\u001b[0m         \u001b[39mf\u001b[39m\u001b[39m'\u001b[39m\u001b[39mYou don\u001b[39m\u001b[39m\\'\u001b[39;00m\u001b[39mt have permissions to visit: \u001b[39m\u001b[39m{\u001b[39;00murl\u001b[39m}\u001b[39;00m\u001b[39m'\u001b[39m\n\u001b[1;32m      <a href='vscode-notebook-cell:/home/rakercy/research/programming_lessons/10_error_handling.ipynb#ch0000006?line=7'>8</a>\u001b[0m     )\n\u001b[1;32m      <a href='vscode-notebook-cell:/home/rakercy/research/programming_lessons/10_error_handling.ipynb#ch0000006?line=8'>9</a>\u001b[0m \u001b[39mreturn\u001b[39;00m [\u001b[39m'\u001b[39m\u001b[39mcomputer\u001b[39m\u001b[39m'\u001b[39m, \u001b[39m'\u001b[39m\u001b[39mprogramming\u001b[39m\u001b[39m'\u001b[39m]\n",
      "\u001b[0;31mConnectionRefusedError\u001b[0m: You don't have permissions to visit: google.com",
      "\nDuring handling of the above exception, another exception occurred:\n",
      "\u001b[0;31mException\u001b[0m                                 Traceback (most recent call last)",
      "\u001b[1;32m/home/rakercy/research/programming_lessons/10_error_handling.ipynb Cell 7'\u001b[0m in \u001b[0;36m<cell line: 14>\u001b[0;34m()\u001b[0m\n\u001b[1;32m     <a href='vscode-notebook-cell:/home/rakercy/research/programming_lessons/10_error_handling.ipynb#ch0000006?line=18'>19</a>\u001b[0m     \u001b[39mprint\u001b[39m(\u001b[39m'\u001b[39m\u001b[39mAn error occured within the application!\u001b[39m\u001b[39m'\u001b[39m)\n\u001b[1;32m     <a href='vscode-notebook-cell:/home/rakercy/research/programming_lessons/10_error_handling.ipynb#ch0000006?line=19'>20</a>\u001b[0m     \u001b[39mprint\u001b[39m(\u001b[39mf\u001b[39m\u001b[39m'\u001b[39m\u001b[39m\\t\u001b[39;00m\u001b[39m{\u001b[39;00me\u001b[39m}\u001b[39;00m\u001b[39m'\u001b[39m)\n\u001b[0;32m---> <a href='vscode-notebook-cell:/home/rakercy/research/programming_lessons/10_error_handling.ipynb#ch0000006?line=20'>21</a>\u001b[0m     \u001b[39mraise\u001b[39;00m \u001b[39mException\u001b[39;00m(\u001b[39m'\u001b[39m\u001b[39mAnother error occured...\u001b[39m\u001b[39m'\u001b[39m)\n\u001b[1;32m     <a href='vscode-notebook-cell:/home/rakercy/research/programming_lessons/10_error_handling.ipynb#ch0000006?line=21'>22</a>\u001b[0m \u001b[39mprint\u001b[39m(\u001b[39m'\u001b[39m\u001b[39mStoring the following patents to the database...\u001b[39m\u001b[39m'\u001b[39m)\n\u001b[1;32m     <a href='vscode-notebook-cell:/home/rakercy/research/programming_lessons/10_error_handling.ipynb#ch0000006?line=22'>23</a>\u001b[0m \u001b[39mprint\u001b[39m(\u001b[39mf\u001b[39m\u001b[39m'\u001b[39m\u001b[39m\\t\u001b[39;00m\u001b[39m{\u001b[39;00mall_patents\u001b[39m}\u001b[39;00m\u001b[39m'\u001b[39m)\n",
      "\u001b[0;31mException\u001b[0m: Another error occured..."
     ]
    }
   ],
   "source": [
    "def get_patents(url):\n",
    "    \"\"\"\n",
    "    Gets the patents from the URL\n",
    "    \"\"\"\n",
    "    if 'google' in url:\n",
    "        raise ConnectionRefusedError(\n",
    "            f'You don\\'t have permissions to visit: {url}'\n",
    "        )\n",
    "    return ['computer', 'programming']\n",
    "\n",
    "all_patents = []\n",
    "urls = ['patentsview.org', 'google.com']\n",
    "\n",
    "try:\n",
    "    for url in urls:\n",
    "        some_patents = get_patents(url=url)\n",
    "        all_patents.extend(some_patents)\n",
    "except Exception as e:\n",
    "    print('An error occured within the application!')\n",
    "    print(f'\\t{e}')\n",
    "    raise Exception('Another error occured...')\n",
    "finally:\n",
    "    print('Storing the following patents to the database...')\n",
    "    print(f'\\t{all_patents}')\n",
    "\n",
    "print('I might not be executed if there\\'s an error outside of `try`')\n"
   ]
  },
  {
   "cell_type": "markdown",
   "metadata": {},
   "source": [
    "## else\n",
    "`else` block only gets executed when there're no errors within the `try` block. Useful for processes that depends on other processes to successfully finish."
   ]
  },
  {
   "cell_type": "code",
   "execution_count": 8,
   "metadata": {},
   "outputs": [
    {
     "name": "stdout",
     "output_type": "stream",
     "text": [
      "An error occured within the application!\n",
      "\tYou don't have permissions to visit: google.com\n",
      "Storing the following patents to the database...\n",
      "\t['computer', 'programming']\n"
     ]
    }
   ],
   "source": [
    "def get_patents(url):\n",
    "    \"\"\"\n",
    "    Gets the patents from the URL\n",
    "    \"\"\"\n",
    "    if 'google' in url:\n",
    "        raise ConnectionRefusedError(\n",
    "            f'You don\\'t have permissions to visit: {url}'\n",
    "        )\n",
    "    return ['computer', 'programming']\n",
    "\n",
    "all_patents = []\n",
    "urls = ['patentsview.org', 'google.com']\n",
    "\n",
    "try:\n",
    "    for url in urls:\n",
    "        some_patents = get_patents(url=url)\n",
    "        all_patents.extend(some_patents)\n",
    "except Exception as e:\n",
    "    print('An error occured within the application!')\n",
    "    print(f'\\t{e}')\n",
    "else:\n",
    "    print('Successfully fetched all patents!')\n",
    "finally:\n",
    "    print('Storing the following patents to the database...')\n",
    "    print(f'\\t{all_patents}')\n"
   ]
  }
 ],
 "metadata": {
  "interpreter": {
   "hash": "e7370f93d1d0cde622a1f8e1c04877d8463912d04d973331ad4851f04de6915a"
  },
  "kernelspec": {
   "display_name": "Python 3.8.10 64-bit",
   "language": "python",
   "name": "python3"
  },
  "language_info": {
   "codemirror_mode": {
    "name": "ipython",
    "version": 3
   },
   "file_extension": ".py",
   "mimetype": "text/x-python",
   "name": "python",
   "nbconvert_exporter": "python",
   "pygments_lexer": "ipython3",
   "version": "3.8.10"
  },
  "orig_nbformat": 4
 },
 "nbformat": 4,
 "nbformat_minor": 2
}
