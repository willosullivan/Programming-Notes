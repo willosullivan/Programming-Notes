{
 "cells": [
  {
   "cell_type": "markdown",
   "metadata": {},
   "source": [
    "# PostgreSQL (PSQL) Database\n",
    "We store \"data models\" as tables. A table can be thought of a single CSV file. An inventor will be a table whereas a patent will be another table. We will then \"join\" them at runtime if necessary.\n",
    "\n",
    "For the actual database to be used, we will use PostgreSQL to allow for complex queries and support large scale operations (in preparation when it's used extensively).\n",
    "\n",
    "\n",
    "Read more about PostgreSQL vs MySQL here:\n",
    "\n",
    "https://www.fivetran.com/blog/postgresql-vs-mysql\n",
    "\n",
    "**Most of the things we learn here applies to all SQL databases**"
   ]
  },
  {
   "cell_type": "markdown",
   "metadata": {},
   "source": [
    "## Creating a table\n",
    "```sql\n",
    "CREATE TABLE IF NOT EXISTS inventors (\n",
    "\tkey_id VARCHAR PRIMARY KEY,\n",
    "\tfirst_name VARCHAR NOT NULL,\n",
    "\tlast_name VARCHAR NOT NULL,\n",
    "\tlocation_city VARCHAR NOT NULL,\n",
    "\tlocation_state VARCHAR NOT NULL,\n",
    "\tlocation_longitude FLOAT,\n",
    "\tlocation_latitude FLOAT\n",
    ");\n",
    "```\n",
    "- `CREATE TABLE` indicates that we are creating a new table named `inventors`\n",
    "- `IF NOT EXISTS` indicates that the database server should ignore us if it already exists (avoiding errors)\n",
    "- The format for each element in the \"array\" is:\n",
    "\t- `column_name` `data_type` `column_constraint`\n",
    "\t\t- `PRIMARY KEY` indicates the column will be used as the primary \"index\", which optimizes searching by the primary key\n",
    "\t\t\t- `PRIMARY KEY` also implements `NOT NULL` and `UNIQUE`\n",
    "\t\t- `UNIQUE` indicatest that the value in the column must not be duplicated within the same table column.\n",
    "\t\t- `NOT NULL` indicates that the column must not be `NULL` (empty)\n",
    "\t\t- it's possible to include a \"length\" limitation for the datatype. For example, `VARCHAR(64)` will limit the column's length to only 64 characters. Useful for optimizing the database if the maximum length is predictable.\n",
    "\n",
    "More details can be found here:\n",
    "\n",
    "https://www.postgresqltutorial.com/postgresql-create-table/\n",
    "\n",
    "https://www.postgresql.org/docs/14/sql-createtable.html"
   ]
  },
  {
   "cell_type": "markdown",
   "metadata": {},
   "source": [
    "## Inserting data to the table\n",
    "\n",
    "```sql\n",
    "INSERT INTO inventors(\n",
    "    key_id, first_name, last_name, location_city, location_state, location_longitude, location_latitude\n",
    ")\n",
    "VALUES (\n",
    "    '1', 'test first name', 'test last name', 'test city', 'test state', 0.0, 0.0\n",
    ");\n",
    "```\n",
    "- `INSERT INTO` indicates that we are storing values to the table named `inventors`\n",
    "- The \"list\" after the `inventors` defines the columns that we want to update\n",
    "- The \"list\" after the `VALUES` defines the values that we want to insert for each column (order matters)\n",
    "\n",
    "More details can be found here:\n",
    "\n",
    "https://www.postgresqltutorial.com/postgresql-insert/\n",
    "\n",
    "https://www.postgresql.org/docs/14/sql-insert.html"
   ]
  },
  {
   "cell_type": "markdown",
   "metadata": {},
   "source": [
    "## Fetching data from the table\n",
    "\n",
    "```sql\n",
    "SELECT * FROM inventors;\n",
    "```\n",
    "\n",
    "```sql\n",
    "SELECT key_id, first_name, last_name FROM inventors;\n",
    "```\n",
    "- `SELECT` indicates that we will fetch data from a table given the columns\n",
    "    - `*` indicates that we will fetch all columns from the table\n",
    "- `FROM` defines the table to fetch from\n",
    "\n",
    "More details can be found here:\n",
    "\n",
    "https://www.postgresqltutorial.com/postgresql-select/\n",
    "\n",
    "https://www.postgresql.org/docs/14/sql-select.html"
   ]
  },
  {
   "cell_type": "markdown",
   "metadata": {},
   "source": [
    "## psycopg2\n",
    "`psycopg2` is a library that we can use in Python to manage our connection to the PSQL server.\n",
    "\n",
    "To install use the following commands:\n",
    "```sh\n",
    "pip install psycopg2-binary\n",
    "```\n",
    "- If there are issues during installation, consult me or Google because the issues vary for each environment.\n",
    "\n",
    "\n",
    "More details can be found here:\n",
    "\n",
    "https://www.postgresqltutorial.com/postgresql-python/connect/"
   ]
  },
  {
   "cell_type": "code",
   "execution_count": 12,
   "metadata": {},
   "outputs": [
    {
     "name": "stdout",
     "output_type": "stream",
     "text": [
      "PostgreSQL database version:\n",
      "('1', 'test first name', 'test last name', 'test city', 'test state', 0.0, 0.0)\n"
     ]
    }
   ],
   "source": [
    "import psycopg2\n",
    "\n",
    "conn = None\n",
    "try:\n",
    "    conn = psycopg2.connect(\n",
    "        host=\"localhost\",\n",
    "        database=\"docker\",\n",
    "        user=\"docker\",\n",
    "        password=\"docker\"\n",
    "    )\n",
    "\n",
    "    cur = conn.cursor()\n",
    "\n",
    "    print('PostgreSQL database version:')\n",
    "    cur.execute('SELECT * from inventors')\n",
    "\n",
    "    db_version = cur.fetchone()\n",
    "    print(db_version)\n",
    "finally:\n",
    "    if conn:\n",
    "        conn.close()"
   ]
  },
  {
   "cell_type": "markdown",
   "metadata": {},
   "source": [
    "- `conn = psycopg2.connect(...)` starts a connection to the database and stores it to a variable named `conn`. Ensure that the connection also gets closed once not needed because a \"connection\" takes up CPU resources for the server\n",
    "- `cur = conn.cursor()` prepares an environment to execute the SQL commands and stores it to `cur`\n",
    "- `cur.execute(...)` executes the input SQL commands\n",
    "- `cur.fetchone()` fetches the first result of the previous execution\n",
    "- `conn.close()` closes the connection, freeing up the resources for the database"
   ]
  },
  {
   "cell_type": "markdown",
   "metadata": {},
   "source": [
    "## .env\n",
    "`.env` is a file that contains environment variables that is configured at the system level (even before the application is ran). This can contain \"secrets\" or sensitive information that must not be written on the application. It can also contain configurations that allow the application to differentiate environments (like production and development), which can be used to change the application's behavior accordingly."
   ]
  },
  {
   "cell_type": "code",
   "execution_count": 7,
   "metadata": {},
   "outputs": [
    {
     "name": "stdout",
     "output_type": "stream",
     "text": [
      "PostgreSQL database version:\n",
      "('PostgreSQL 12.9 (Ubuntu 12.9-0ubuntu0.20.04.1) on x86_64-pc-linux-gnu, compiled by gcc (Ubuntu 9.3.0-17ubuntu1~20.04) 9.3.0, 64-bit',)\n"
     ]
    }
   ],
   "source": [
    "import psycopg2\n",
    "from dotenv import load_dotenv\n",
    "from os import environ\n",
    "\n",
    "load_dotenv()  # take environment variables from .env.\n",
    "\n",
    "\n",
    "database_host = environ.get('DB_HOST')\n",
    "database_name = environ.get('DB_NAME')\n",
    "database_username = environ.get('DB_USERNAME')\n",
    "database_password = environ.get('DB_PASSWORD')\n",
    "\n",
    "conn = None\n",
    "try:\n",
    "    conn = psycopg2.connect(\n",
    "        host=database_host,\n",
    "        database=database_name,\n",
    "        user=database_username,\n",
    "        password=database_password,\n",
    "    )\n",
    "\n",
    "    cur = conn.cursor()\n",
    "\n",
    "    print('PostgreSQL database version:')\n",
    "    cur.execute('SELECT version()')\n",
    "\n",
    "    db_version = cur.fetchone()\n",
    "    print(db_version)\n",
    "finally:\n",
    "    if conn:\n",
    "        conn.close()"
   ]
  }
 ],
 "metadata": {
  "interpreter": {
   "hash": "e7370f93d1d0cde622a1f8e1c04877d8463912d04d973331ad4851f04de6915a"
  },
  "kernelspec": {
   "display_name": "Python 3.8.10 64-bit",
   "language": "python",
   "name": "python3"
  },
  "language_info": {
   "codemirror_mode": {
    "name": "ipython",
    "version": 3
   },
   "file_extension": ".py",
   "mimetype": "text/x-python",
   "name": "python",
   "nbconvert_exporter": "python",
   "pygments_lexer": "ipython3",
   "version": "3.8.10"
  },
  "orig_nbformat": 4
 },
 "nbformat": 4,
 "nbformat_minor": 2
}
