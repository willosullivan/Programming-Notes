{
 "cells": [
  {
   "cell_type": "markdown",
   "metadata": {},
   "source": [
    "# SQLAlchemy\n",
    "\n",
    "SQLAlchemy is a python library that can be used to manage how we connect to our SQL server (PostgreSQL in this case).\n",
    "\n",
    "The advantage of using SQLAlchemy is it allows us to interact with the database using Object-Relational Mapping (ORM).\n",
    "\n",
    "To install use the following commands:\n",
    "```sh\n",
    "pip install SQLAlchemy\n",
    "```\n",
    "- If there are issues during installation, consult me or Google because the issues vary for each environment.\n",
    "\n",
    "\n",
    "More details can be found here:\n",
    "\n",
    "https://docs.sqlalchemy.org/en/14/intro.html#installation"
   ]
  },
  {
   "cell_type": "markdown",
   "metadata": {},
   "source": [
    "## Object-Relational Mapping (ORM)\n",
    "\n",
    "ORM is a way to interact with the database using \"objects\" (or classes) instead of manually writing the SQL queries.\n",
    "\n",
    "This allows some of the operations to be simplified, including certain security concerns.\n",
    "\n",
    "| | SQL | ORM |\n",
    "| --- | --- | --- |\n",
    "| Fetching an item by its ID | `cur.execute(\"SELECT * FROM inventors WHERE key_id='123'\")`</br>`inventor_sql = cur.fetchone()`</br>(`List` of values) | `inventor = session.query(Inventor).get('123')`</br>(`Inventor` class) |\n",
    "| Fetching an item's column | `inventor_sql[0]` | `inventor.key_id` |\n",
    "| Variable input | `cur.execute(f\"SELECT * FROM inventors WHERE key_id='{key_id}'\")`</br>`inventor_sql = cur.fetchone()`</br>(`List` of values)</br>**NOTE: Susceptible to SQL injections** | `inventor = session.query(Inventor).get(key_id)`</br>(`Inventor` class)</br>**NOTE: Relatively safe because SQLAlchemy can \"clean\" the data automatically** |\n",
    "\n",
    "In general, what an ORM library does is:\n",
    "- Uses the \"Classes\" that you define and interpret them as \"table\" definitions\n",
    "- When you do operations on the \"Class\", the library automatically converts it into SQL Statements\n",
    "  - Usually, libraries will clean some of the inputs to prevent SQL Injection attacks\n"
   ]
  },
  {
   "cell_type": "markdown",
   "metadata": {},
   "source": [
    "## Querying the Inventor Table\n",
    "\n",
    "The \"ORM\" version of our `Inventor Table` can be written and queried using SQLAlchemy."
   ]
  },
  {
   "cell_type": "code",
   "execution_count": 30,
   "metadata": {},
   "outputs": [
    {
     "name": "stdout",
     "output_type": "stream",
     "text": [
      "1: test first name test last name\n",
      "7: Another Inventor\n",
      "8: Another Inventor\n",
      "3: Update First Name Inventor\n",
      "4: Another Update Last Name\n",
      "2: Upserted Inventor\n",
      "100: Another Inventor\n"
     ]
    }
   ],
   "source": [
    "from sqlalchemy import Column, VARCHAR, create_engine\n",
    "from sqlalchemy.orm import Session, declarative_base\n",
    "from dotenv import load_dotenv\n",
    "from os import environ\n",
    "\n",
    "load_dotenv()  # take environment variables from .env.\n",
    "\n",
    "database_host = environ.get('DB_HOST')\n",
    "database_name = environ.get('DB_NAME')\n",
    "database_username = environ.get('DB_USERNAME')\n",
    "database_password = environ.get('DB_PASSWORD')\n",
    "\n",
    "\n",
    "# See here for more details about creating the `engine`\n",
    "# https://docs.sqlalchemy.org/en/14/core/engines.html\n",
    "engine = create_engine(f'postgresql://{database_username}:{database_password}@{database_host}:5432/{database_name}')\n",
    "\n",
    "\n",
    "Base = declarative_base()\n",
    "# See here for more details about declaring `models`\n",
    "# https://docs.sqlalchemy.org/en/14/orm/quickstart.html#declare-models\n",
    "class Inventor(Base):\n",
    "    __tablename__ = 'inventors'\n",
    "\n",
    "    key_id = Column(VARCHAR, primary_key=True)\n",
    "    first_name = Column(VARCHAR, nullable=False)\n",
    "    last_name = Column(VARCHAR, nullable=False)\n",
    "    location_city = Column(VARCHAR, nullable=False)\n",
    "    location_state = Column(VARCHAR, nullable=False)\n",
    "    location_longitude = Column(VARCHAR, nullable=False)\n",
    "    location_latitude = Column(VARCHAR, nullable=False)\n",
    "\n",
    "with Session(engine) as session:\n",
    "    all_inventors = session.query(Inventor).all()\n",
    "    for inventor in all_inventors:\n",
    "        print(f'{inventor.key_id}: {inventor.first_name} {inventor.last_name}')\n"
   ]
  },
  {
   "cell_type": "code",
   "execution_count": 31,
   "metadata": {},
   "outputs": [
    {
     "name": "stdout",
     "output_type": "stream",
     "text": [
      "1: test first name test last name\n",
      "7: Another Inventor\n",
      "8: Another Inventor\n",
      "3: Update First Name Inventor\n",
      "4: Another Update Last Name\n",
      "2: Upserted Inventor\n",
      "100: Another Inventor\n"
     ]
    }
   ],
   "source": [
    "import psycopg2\n",
    "from dotenv import load_dotenv\n",
    "from os import environ\n",
    "\n",
    "load_dotenv()  # take environment variables from .env.\n",
    "\n",
    "\n",
    "database_host = environ.get('DB_HOST')\n",
    "database_name = environ.get('DB_NAME')\n",
    "database_username = environ.get('DB_USERNAME')\n",
    "database_password = environ.get('DB_PASSWORD')\n",
    "\n",
    "conn = None\n",
    "try:\n",
    "    conn = psycopg2.connect(\n",
    "        host=database_host,\n",
    "        database=database_name,\n",
    "        user=database_username,\n",
    "        password=database_password,\n",
    "    )\n",
    "\n",
    "    cur = conn.cursor()\n",
    "    cur.execute('SELECT * FROM inventors')\n",
    "    all_inventors = cur.fetchall()\n",
    "    for inventor in all_inventors:\n",
    "        print(f'{inventor[0]}: {inventor[1]} {inventor[2]}')\n",
    "finally:\n",
    "    if conn:\n",
    "        conn.close()"
   ]
  },
  {
   "cell_type": "markdown",
   "metadata": {},
   "source": [
    "## Inserting an Inventor\n",
    "\n",
    "Read more about `insert`, `update` and `delete` here:\n",
    "https://docs.sqlalchemy.org/en/14/core/dml.html"
   ]
  },
  {
   "cell_type": "code",
   "execution_count": 20,
   "metadata": {},
   "outputs": [],
   "source": [
    "from sqlalchemy import insert\n",
    "\n",
    "with Session(engine) as session:\n",
    "    # Using `insert` statement\n",
    "    stmt = insert(Inventor).values(\n",
    "        key_id='7',\n",
    "        first_name='Another',\n",
    "        last_name='Inventor',\n",
    "        location_city='San Jose',\n",
    "        location_state='California',\n",
    "        location_longitude='0',\n",
    "        location_latitude='0',\n",
    "    )\n",
    "    session.execute(stmt)\n",
    "    session.commit()\n",
    "\n",
    "    # Using `Inventor` table directly\n",
    "    inventor = Inventor(\n",
    "        key_id='8',\n",
    "        first_name='Another',\n",
    "        last_name='Inventor',\n",
    "        location_city='San Jose',\n",
    "        location_state='California',\n",
    "        location_longitude='0',\n",
    "        location_latitude='0',\n",
    "    )\n",
    "    session.add(inventor)\n",
    "    session.commit()"
   ]
  },
  {
   "cell_type": "markdown",
   "metadata": {},
   "source": [
    "## Updating an Inventor"
   ]
  },
  {
   "cell_type": "code",
   "execution_count": 22,
   "metadata": {},
   "outputs": [],
   "source": [
    "from sqlalchemy import update\n",
    "\n",
    "\n",
    "with Session(engine) as session:\n",
    "    # Using `update` statement\n",
    "    stmt = update(Inventor).where(\n",
    "        Inventor.key_id=='3'\n",
    "    ).values(\n",
    "        first_name='Update First Name'\n",
    "    )\n",
    "    session.execute(stmt)\n",
    "    session.commit()\n",
    "\n",
    "    # Using `Inventor` table directly\n",
    "    inventor = session.query(Inventor).get('4')\n",
    "\n",
    "    ...\n",
    "\n",
    "    inventor.last_name = 'Update Last Name'\n",
    "    session.commit()\n",
    "\n"
   ]
  },
  {
   "cell_type": "markdown",
   "metadata": {},
   "source": [
    "## Upserting an Inventor\n",
    "\n",
    "Implementation is usually SQL Server specific. In PSQL, we use `on_conflict_do_update`.\n",
    "\n",
    "Read more about PostgreSQL upsert here:\n",
    "https://docs.sqlalchemy.org/en/13/dialects/postgresql.html#insert-on-conflict-upsert"
   ]
  },
  {
   "cell_type": "code",
   "execution_count": 28,
   "metadata": {},
   "outputs": [],
   "source": [
    "from sqlalchemy.dialects.postgresql import insert\n",
    "\n",
    "with Session(engine) as session:\n",
    "    # Using `insert` statement\n",
    "    stmt = insert(Inventor).values(\n",
    "        key_id='100',\n",
    "        first_name='Another',\n",
    "        last_name='Inventor',\n",
    "        location_city='San Jose',\n",
    "        location_state='California',\n",
    "        location_longitude='0',\n",
    "        location_latitude='0',\n",
    "    ).on_conflict_do_update(\n",
    "        index_elements=[Inventor.key_id],\n",
    "        set_={\n",
    "            'first_name': 'Upserted'\n",
    "        }\n",
    "    )\n",
    "    session.execute(stmt)\n",
    "    session.commit()"
   ]
  },
  {
   "cell_type": "markdown",
   "metadata": {},
   "source": [
    "## Joining an Inventor and its Patents"
   ]
  }
 ],
 "metadata": {
  "interpreter": {
   "hash": "e7370f93d1d0cde622a1f8e1c04877d8463912d04d973331ad4851f04de6915a"
  },
  "kernelspec": {
   "display_name": "Python 3.8.10 64-bit",
   "language": "python",
   "name": "python3"
  },
  "language_info": {
   "codemirror_mode": {
    "name": "ipython",
    "version": 3
   },
   "file_extension": ".py",
   "mimetype": "text/x-python",
   "name": "python",
   "nbconvert_exporter": "python",
   "pygments_lexer": "ipython3",
   "version": "3.8.10"
  },
  "orig_nbformat": 4
 },
 "nbformat": 4,
 "nbformat_minor": 2
}
