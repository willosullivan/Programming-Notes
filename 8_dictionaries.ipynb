{
 "cells": [
  {
   "cell_type": "markdown",
   "metadata": {},
   "source": [
    "# Dictionaries\n",
    "A collection of objects that are identified by a hashable object (usually a string)\n",
    "\n",
    "Useful when a collection of objects (`patents` for example) needs to be stored and associated to another object (the patent's `author` for example) while the application is running."
   ]
  },
  {
   "cell_type": "code",
   "execution_count": 1,
   "metadata": {},
   "outputs": [
    {
     "name": "stdout",
     "output_type": "stream",
     "text": [
      "author_patents[\"Bob\"]={'electronics', 'computer', 'calculator', 'website'}\n",
      "author_patents={'Ana': {'electronics', 'light bulb', 'computer'}, 'Bob': {'electronics', 'computer', 'calculator', 'website'}, 'Will': {'statistics', 'data science'}, 'Cyril': {'python'}}\n"
     ]
    }
   ],
   "source": [
    "author_patents = {\n",
    "    'Ana': {'light bulb', 'computer', 'electronics'},\n",
    "    'Bob': {'website', 'computer', 'electronics'},\n",
    "    'Will': {'statistics', 'data science'}\n",
    "}\n",
    "\n",
    "author_patents['Bob'].add('calculator')\n",
    "print(f'{author_patents[\"Bob\"]=}')\n",
    "\n",
    "author_patents['Cyril'] = {'python'}\n",
    "print(f'{author_patents=}')"
   ]
  },
  {
   "cell_type": "markdown",
   "metadata": {},
   "source": [
    "## Common Functions\n",
    "This only lists the common dictionary functions used. An exhaustive list can be found in Python's documentation:\n",
    "\n",
    "https://docs.python.org/3/library/stdtypes.html#mapping-types-dict"
   ]
  },
  {
   "cell_type": "markdown",
   "metadata": {},
   "source": [
    "### update()\n",
    "Insert values to the dictionary using another dictionary or according to the input key/value pairs. Useful when combining dictionaries together."
   ]
  },
  {
   "cell_type": "code",
   "execution_count": 12,
   "metadata": {},
   "outputs": [
    {
     "name": "stdout",
     "output_type": "stream",
     "text": [
      "{'title': 'calculator', 'date': 'Jan 1 1990', 'author': 'Bob', 'country': 'US'}\n",
      "{'title': 'calculator', 'date': 'Jan 1 1990', 'author': 'Bob', 'country': 'US', 'state': 'California'}\n"
     ]
    }
   ],
   "source": [
    "author_information = {\n",
    "    'author': 'Bob',\n",
    "    'country': 'US',\n",
    "}\n",
    "\n",
    "patent_information = {\n",
    "    'title': 'calculator',\n",
    "    'date': 'Jan 1 1990',\n",
    "    'author': 'Bob',\n",
    "}\n",
    "\n",
    "patent_information.update(author_information)\n",
    "print(patent_information)\n",
    "\n",
    "patent_information.update(state='California')\n",
    "print(patent_information)"
   ]
  },
  {
   "cell_type": "markdown",
   "metadata": {},
   "source": [
    "Another way to combine dictionaries is to use the unpacking operator using double asterisks (`**`)\n",
    "\n",
    "More details can be found here:\n",
    "\n",
    "https://stackabuse.com/unpacking-in-python-beyond-parallel-assignment/"
   ]
  },
  {
   "cell_type": "code",
   "execution_count": 32,
   "metadata": {},
   "outputs": [
    {
     "name": "stdout",
     "output_type": "stream",
     "text": [
      "{'author': 'Bob', 'country': 'US', 'title': 'calculator', 'date': 'Jan 1 1990'}\n"
     ]
    }
   ],
   "source": [
    "author_information = {\n",
    "    'author': 'Bob',\n",
    "    'country': 'US',\n",
    "}\n",
    "\n",
    "patent_information = {\n",
    "    'title': 'calculator',\n",
    "    'date': 'Jan 1 1990',\n",
    "    'author': 'Bob',\n",
    "}\n",
    "\n",
    "new_dictionary = {**author_information, **patent_information}\n",
    "\"\"\"\n",
    "{\n",
    "    key='author' : value='Bob',\n",
    "    ...\n",
    "}\n",
    "\n",
    "\"\"\"\n",
    "print(new_dictionary)"
   ]
  },
  {
   "cell_type": "markdown",
   "metadata": {},
   "source": [
    "Dictionary unpacking is also useful for optional arbitrary keyword parameters for functions."
   ]
  },
  {
   "cell_type": "code",
   "execution_count": 3,
   "metadata": {},
   "outputs": [
    {
     "name": "stdout",
     "output_type": "stream",
     "text": [
      "You have entered: {}\n",
      "You have entered: {'key': 'value', 'some': 1}\n"
     ]
    }
   ],
   "source": [
    "def arbitrary_optional_parameter(**kwargs):\n",
    "    # kwargs = key word arguments\n",
    "    print(f'You have entered: {kwargs}')\n",
    "    \"\"\"\"\n",
    "    request.get(\n",
    "        **kwargs\n",
    "    )\n",
    "    \"\"\"\n",
    "\n",
    "\n",
    "arbitrary_optional_parameter()\n",
    "arbitrary_optional_parameter(key='value', some=1)\n",
    "# NOTE: This will fail\n",
    "# arbitrary_optional_parameter(1)"
   ]
  },
  {
   "cell_type": "markdown",
   "metadata": {},
   "source": [
    "### get()\n",
    "Gets the value from the dictionary using the key provided. Useful when you are not sure whether the key exists in the dictionary or not."
   ]
  },
  {
   "cell_type": "code",
   "execution_count": 5,
   "metadata": {},
   "outputs": [
    {
     "name": "stdout",
     "output_type": "stream",
     "text": [
      "patent_information.get(\"author\")='Bob'\n",
      "patent_information.get(\"not-implemented-field\")=None\n"
     ]
    },
    {
     "ename": "KeyError",
     "evalue": "'not-implemented-field'",
     "output_type": "error",
     "traceback": [
      "\u001b[0;31m---------------------------------------------------------------------------\u001b[0m",
      "\u001b[0;31mKeyError\u001b[0m                                  Traceback (most recent call last)",
      "\u001b[1;32m/home/rakercy/research/programming_lessons/8_dictionaries.ipynb Cell 11'\u001b[0m in \u001b[0;36m<cell line: 9>\u001b[0;34m()\u001b[0m\n\u001b[1;32m      <a href='vscode-notebook-cell:/home/rakercy/research/programming_lessons/8_dictionaries.ipynb#ch0000010?line=6'>7</a>\u001b[0m \u001b[39mprint\u001b[39m(\u001b[39mf\u001b[39m\u001b[39m'\u001b[39m\u001b[39m{\u001b[39;00mpatent_information\u001b[39m.\u001b[39mget(\u001b[39m\"\u001b[39m\u001b[39mauthor\u001b[39m\u001b[39m\"\u001b[39m)\u001b[39m=}\u001b[39;00m\u001b[39m'\u001b[39m)\n\u001b[1;32m      <a href='vscode-notebook-cell:/home/rakercy/research/programming_lessons/8_dictionaries.ipynb#ch0000010?line=7'>8</a>\u001b[0m \u001b[39mprint\u001b[39m(\u001b[39mf\u001b[39m\u001b[39m'\u001b[39m\u001b[39m{\u001b[39;00mpatent_information\u001b[39m.\u001b[39mget(\u001b[39m\"\u001b[39m\u001b[39mnot-implemented-field\u001b[39m\u001b[39m\"\u001b[39m)\u001b[39m=}\u001b[39;00m\u001b[39m'\u001b[39m)\n\u001b[0;32m----> <a href='vscode-notebook-cell:/home/rakercy/research/programming_lessons/8_dictionaries.ipynb#ch0000010?line=8'>9</a>\u001b[0m patent_information[\u001b[39m'\u001b[39;49m\u001b[39mnot-implemented-field\u001b[39;49m\u001b[39m'\u001b[39;49m]\n",
      "\u001b[0;31mKeyError\u001b[0m: 'not-implemented-field'"
     ]
    }
   ],
   "source": [
    "patent_information = {\n",
    "    'title': 'calculator',\n",
    "    'date': 'Jan 1 1990',\n",
    "    'author': 'Bob',\n",
    "}\n",
    "\n",
    "print(f'{patent_information.get(\"author\")=}')\n",
    "print(f'{patent_information.get(\"not-implemented-field\")=}')\n",
    "# patent_information['not-implemented-field']"
   ]
  },
  {
   "cell_type": "markdown",
   "metadata": {},
   "source": [
    "`get()` also allows giving default values if the key was not found."
   ]
  },
  {
   "cell_type": "code",
   "execution_count": 6,
   "metadata": {},
   "outputs": [
    {
     "name": "stdout",
     "output_type": "stream",
     "text": [
      "No `state` provided\n"
     ]
    }
   ],
   "source": [
    "print(patent_information.get('state', 'No `state` provided'))"
   ]
  },
  {
   "cell_type": "markdown",
   "metadata": {},
   "source": [
    "### pop()\n",
    "Removes the value from the dictionary using the key provided. Useful when the values are only used once and can be removed to reduce memory usage. Also used for removing unwanted keys from the dictionary."
   ]
  },
  {
   "cell_type": "code",
   "execution_count": 7,
   "metadata": {},
   "outputs": [
    {
     "name": "stdout",
     "output_type": "stream",
     "text": [
      "removed_value='Bob'\n",
      "patent_information={'title': 'calculator', 'date': 'Jan 1 1990'}\n"
     ]
    }
   ],
   "source": [
    "patent_information = {\n",
    "    'title': 'calculator',\n",
    "    'date': 'Jan 1 1990',\n",
    "    'author': 'Bob',\n",
    "}\n",
    "\n",
    "removed_value = patent_information.pop('author')\n",
    "print(f'{removed_value=}')\n",
    "print(f'{patent_information=}')"
   ]
  },
  {
   "cell_type": "markdown",
   "metadata": {},
   "source": [
    "### copy()\n",
    "Copies the dictionary to another variable. This is useful when a dictionary needs to be updated without touching the original one."
   ]
  },
  {
   "cell_type": "code",
   "execution_count": 9,
   "metadata": {},
   "outputs": [
    {
     "name": "stdout",
     "output_type": "stream",
     "text": [
      "author_information={'author': 'Bob', 'country': 'US'}\n",
      "patent_information={'title': 'calculator', 'date': 'Jan 1 1990', 'author': 'Bob'}\n",
      "full_information={'title': 'calculator', 'date': 'Jan 1 1990', 'author': 'Bob', 'country': 'US'}\n"
     ]
    }
   ],
   "source": [
    "def get_full_information(author_information, patent_information):\n",
    "    \"\"\"\n",
    "    Combines the `author_information` and `patent_information` to\n",
    "    have a full data on who authored the patent\n",
    "    \"\"\"\n",
    "    full_information = patent_information.copy()\n",
    "    full_information.update(author_information)\n",
    "    return full_information\n",
    "\n",
    "author_information = {\n",
    "    'author': 'Bob',\n",
    "    'country': 'US',\n",
    "}\n",
    "\n",
    "patent_information = {\n",
    "    'title': 'calculator',\n",
    "    'date': 'Jan 1 1990',\n",
    "    'author': 'Bob',\n",
    "}\n",
    "\n",
    "full_information = get_full_information(\n",
    "    patent_information=patent_information,\n",
    "    author_information=author_information,\n",
    ")\n",
    "\n",
    "print(f'{author_information=}')\n",
    "print(f'{patent_information=}')\n",
    "print(f'{full_information=}')"
   ]
  },
  {
   "cell_type": "markdown",
   "metadata": {},
   "source": [
    "### Dictionary Iteration Functions\n",
    "These functions provide a way to process the dictionary without knowing the specific keys and values stored."
   ]
  },
  {
   "cell_type": "markdown",
   "metadata": {},
   "source": [
    "#### items()\n",
    "Returns the keys and values in the dictionary as a list. Useful when both keys and values needs to be processed"
   ]
  },
  {
   "cell_type": "code",
   "execution_count": 18,
   "metadata": {},
   "outputs": [
    {
     "name": "stdout",
     "output_type": "stream",
     "text": [
      "`Ana` have authored the following patents:\n",
      "\t computer, light bulb, electronics\n",
      "`Bob` have authored the following patents:\n",
      "\t electronics, computer, website\n",
      "`Will` have authored the following patents:\n",
      "\t statistics, data science\n"
     ]
    }
   ],
   "source": [
    "author_patents = {\n",
    "    'Ana': {'light bulb', 'computer', 'electronics'},\n",
    "    'Bob': {'website', 'computer', 'electronics'},\n",
    "    'Will': {'statistics', 'data science'}\n",
    "}\n",
    "\n",
    "for author, patents in author_patents.items():\n",
    "    print(f'`{author}` have authored the following patents:')\n",
    "    print('\\t', ', '.join(patents))"
   ]
  },
  {
   "cell_type": "markdown",
   "metadata": {},
   "source": [
    "#### keys()\n",
    "Returns the keys in the dictionary as a list. Useful when only the keys need to be processed\n",
    "\n",
    "When the dictionary is iterated, it will use the `keys` by default."
   ]
  },
  {
   "cell_type": "code",
   "execution_count": 16,
   "metadata": {},
   "outputs": [
    {
     "name": "stdout",
     "output_type": "stream",
     "text": [
      "authors=dict_keys(['Ana', 'Bob', 'Will', 'Cyril'])\n",
      "<class 'dict_keys'>\n",
      "Ana\n",
      "author='Ana'\n",
      "author='Bob'\n",
      "author='Will'\n",
      "author='Cyril'\n"
     ]
    }
   ],
   "source": [
    "authors = author_patents.keys()\n",
    "print(f'{authors=}')\n",
    "print(type(authors))\n",
    "# authors[0]\n",
    "print(list(authors)[0])\n",
    "\n",
    "for author in author_patents:\n",
    "    print(f'{author=}')"
   ]
  },
  {
   "cell_type": "markdown",
   "metadata": {},
   "source": [
    "#### values()\n",
    "Returns the values in the dictionary as a list. Useful when only the values need to be processed"
   ]
  },
  {
   "cell_type": "code",
   "execution_count": 22,
   "metadata": {},
   "outputs": [
    {
     "name": "stdout",
     "output_type": "stream",
     "text": [
      "dict_values([{'computer', 'light bulb', 'electronics'}, {'electronics', 'computer', 'website'}, {'statistics', 'data science'}])\n"
     ]
    }
   ],
   "source": [
    "patents = author_patents.values()\n",
    "print(patents)"
   ]
  },
  {
   "cell_type": "markdown",
   "metadata": {},
   "source": [
    "## json library\n",
    "Contains a collection of functions that help converts the dictionary into JSON compatible values, which can be used for storing the dictionary (or list) as a text file or transporting it to other applications (upload/download)"
   ]
  },
  {
   "cell_type": "code",
   "execution_count": 18,
   "metadata": {},
   "outputs": [
    {
     "name": "stdout",
     "output_type": "stream",
     "text": [
      "type(json_dict)=<class 'dict'>\n",
      "type(re_processed_dict)=<class 'str'>\n"
     ]
    }
   ],
   "source": [
    "import json\n",
    "\n",
    "json_string = '{\"key\": \"value\"}'\n",
    "\n",
    "# `json.loads` Converts a JSON String into a dictionary\n",
    "json_dict = json.loads(json_string)\n",
    "print(f'{type(json_dict)=}')\n",
    "\n",
    "# `json.dumps` Converts a dictionary into a JSON String \n",
    "re_processed_dict = json.dumps(json_dict)\n",
    "print(f'{type(re_processed_dict)=}')"
   ]
  },
  {
   "cell_type": "markdown",
   "metadata": {},
   "source": [
    "## Other notes\n",
    "When used as conditionals, a non-empty dictionary is considered a `True` whereas an empty dictionary is a `False`. Useful when needing to check whether the dictionary is empty or not.\n",
    "\n",
    "**Considered means that it will pass the `if/else` statement but its value itself is not a boolean, ie `{\"a\": \"b\"} != True`**"
   ]
  },
  {
   "cell_type": "code",
   "execution_count": 27,
   "metadata": {},
   "outputs": [
    {
     "name": "stdout",
     "output_type": "stream",
     "text": [
      "The patent has no data!\n"
     ]
    }
   ],
   "source": [
    "def get_patent_data():\n",
    "    \"\"\"\n",
    "    Makes a request to the URL to fetch the data\n",
    "    \"\"\"\n",
    "    return {}\n",
    "\n",
    "if get_patent_data():\n",
    "    print('The patent\\'s data was fetched!')\n",
    "else:\n",
    "    print('The patent has no data!')"
   ]
  }
 ],
 "metadata": {
  "interpreter": {
   "hash": "767d51c1340bd893661ea55ea3124f6de3c7a262a8b4abca0554b478b1e2ff90"
  },
  "kernelspec": {
   "display_name": "Python 3.8.10 64-bit",
   "language": "python",
   "name": "python3"
  },
  "language_info": {
   "codemirror_mode": {
    "name": "ipython",
    "version": 3
   },
   "file_extension": ".py",
   "mimetype": "text/x-python",
   "name": "python",
   "nbconvert_exporter": "python",
   "pygments_lexer": "ipython3",
   "version": "3.8.10"
  },
  "orig_nbformat": 4
 },
 "nbformat": 4,
 "nbformat_minor": 2
}
