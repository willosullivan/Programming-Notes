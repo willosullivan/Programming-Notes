{
 "cells": [
  {
   "cell_type": "markdown",
   "metadata": {},
   "source": [
    "# Introduction to Databases\n",
    "These are optimized \"storage\" servers where we can store and retrieve data efficiently."
   ]
  },
  {
   "cell_type": "markdown",
   "metadata": {},
   "source": [
    "## Structured Query Language (SQL) vs Not only SQL (NoSQL)\n",
    "In a high level perspective, an SQL table looks like a \"CSV\" file whereas NoSQL document looks like a \"JSON\" file.\n",
    "\n",
    "| | SQL | NoSQL |\n",
    "| --- | --- | --- |\n",
    "| Fetching an item by its ID | Usually efficient | Always efficient |\n",
    "| Fetching an item other than its ID | Usually efficient | Usually inefficient. To increase efficiency, data must be duplicated |\n",
    "| Combining data models | Can be done in a single \"read\" | Might need multiple \"reads\" |\n",
    "| Storage | Usually uses less storage | Usually uses more storage |\n",
    "| Performance scaling | Usually scaled by increasing the CPU/Memory size (vertical) [read can do horizontal as well] | Usually scaled by increasing the number of servers (horizontal) |\n",
    "| Pricing | Usually based on server and server size uptime only | Usually based on the number of read, write or delete operations |"
   ]
  },
  {
   "cell_type": "markdown",
   "metadata": {},
   "source": [
    "## SQL Database\n",
    "We store \"data models\" as tables. A table can be thought of a single CSV file. An inventor will be a table whereas a patent will be another table. We will then \"join\" them at runtime if necessary.\n",
    "\n",
    "For the actual database to be used, we will use PostgreSQL to allow for complex queries and support large scale operations (in preparation when it's used extensively).\n",
    "\n",
    "\n",
    "Read more about PostgreSQL vs MySQL here:\n",
    "\n",
    "https://www.fivetran.com/blog/postgresql-vs-mysql"
   ]
  }
 ],
 "metadata": {
  "language_info": {
   "name": "python"
  },
  "orig_nbformat": 4
 },
 "nbformat": 4,
 "nbformat_minor": 2
}
