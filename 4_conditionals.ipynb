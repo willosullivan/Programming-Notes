{
 "cells": [
  {
   "cell_type": "markdown",
   "metadata": {},
   "source": [
    "# Conditionals"
   ]
  },
  {
   "cell_type": "markdown",
   "metadata": {},
   "source": [
    "## Comparison Operations"
   ]
  },
  {
   "cell_type": "markdown",
   "metadata": {},
   "source": [
    "### Greater than\n"
   ]
  },
  {
   "cell_type": "code",
   "execution_count": 7,
   "metadata": {},
   "outputs": [
    {
     "name": "stdout",
     "output_type": "stream",
     "text": [
      "(3 > 2)=True\n",
      "(1 > 2)=False\n"
     ]
    }
   ],
   "source": [
    "print(f'{(3 > 2)=}')\n",
    "print(f'{(1 > 2)=}')"
   ]
  },
  {
   "cell_type": "markdown",
   "metadata": {},
   "source": [
    "### Less than"
   ]
  },
  {
   "cell_type": "code",
   "execution_count": 9,
   "metadata": {},
   "outputs": [
    {
     "name": "stdout",
     "output_type": "stream",
     "text": [
      "(1 < 2)=True\n",
      "(2 < 1)=False\n"
     ]
    }
   ],
   "source": [
    "print(f'{(1 < 2)=}')\n",
    "print(f'{(2 < 1)=}')"
   ]
  },
  {
   "cell_type": "markdown",
   "metadata": {},
   "source": [
    "### Equal to"
   ]
  },
  {
   "cell_type": "code",
   "execution_count": 8,
   "metadata": {},
   "outputs": [
    {
     "name": "stdout",
     "output_type": "stream",
     "text": [
      "(1 == 1)=True\n",
      "(1 == 2)=False\n"
     ]
    }
   ],
   "source": [
    "print(f'{(1 == 1)=}')\n",
    "print(f'{(1 == 2)=}')"
   ]
  },
  {
   "cell_type": "markdown",
   "metadata": {},
   "source": [
    "### Not Equal to"
   ]
  },
  {
   "cell_type": "code",
   "execution_count": 10,
   "metadata": {},
   "outputs": [
    {
     "name": "stdout",
     "output_type": "stream",
     "text": [
      "(1 != 2)=True\n",
      "(1 != 1)=False\n"
     ]
    }
   ],
   "source": [
    "print(f'{(1 != 2)=}')\n",
    "print(f'{(1 != 1)=}')"
   ]
  },
  {
   "cell_type": "markdown",
   "metadata": {},
   "source": [
    "### Greater than or Equal to"
   ]
  },
  {
   "cell_type": "code",
   "execution_count": 11,
   "metadata": {},
   "outputs": [
    {
     "name": "stdout",
     "output_type": "stream",
     "text": [
      "(2 >= 2)=True\n",
      "(1 >= 2)=False\n"
     ]
    }
   ],
   "source": [
    "print(f'{(2 >= 2)=}')\n",
    "print(f'{(1 >= 2)=}')"
   ]
  },
  {
   "cell_type": "markdown",
   "metadata": {},
   "source": [
    "### Less than or Equal to"
   ]
  },
  {
   "cell_type": "code",
   "execution_count": 12,
   "metadata": {},
   "outputs": [
    {
     "name": "stdout",
     "output_type": "stream",
     "text": [
      "(1 <= 2)=True\n",
      "(3 <= 2)=False\n"
     ]
    }
   ],
   "source": [
    "print(f'{(1 <= 2)=}')\n",
    "print(f'{(3 <= 2)=}')"
   ]
  },
  {
   "cell_type": "markdown",
   "metadata": {},
   "source": [
    "## Logical Operations"
   ]
  },
  {
   "cell_type": "markdown",
   "metadata": {},
   "source": [
    "### and"
   ]
  },
  {
   "cell_type": "code",
   "execution_count": 16,
   "metadata": {},
   "outputs": [
    {
     "name": "stdout",
     "output_type": "stream",
     "text": [
      "(1 == 1 and 2 == 2)=True\n",
      "(1 == 1 and 1 == 2)=False\n"
     ]
    }
   ],
   "source": [
    "print(f'{(1 == 1 and 2 == 2)=}')\n",
    "print(f'{(1 == 1 and 1 == 2)=}')"
   ]
  },
  {
   "cell_type": "markdown",
   "metadata": {},
   "source": [
    "### or"
   ]
  },
  {
   "cell_type": "code",
   "execution_count": 15,
   "metadata": {},
   "outputs": [
    {
     "name": "stdout",
     "output_type": "stream",
     "text": [
      "(1 == 1 or 2 == 2)=True\n",
      "(1 == 1 or 1 == 2)=True\n"
     ]
    }
   ],
   "source": [
    "print(f'{(1 == 1 or 2 == 2)=}')\n",
    "print(f'{(1 == 1 or 1 == 2)=}')"
   ]
  },
  {
   "cell_type": "markdown",
   "metadata": {},
   "source": [
    "### not"
   ]
  },
  {
   "cell_type": "code",
   "execution_count": 19,
   "metadata": {},
   "outputs": [
    {
     "name": "stdout",
     "output_type": "stream",
     "text": [
      "(1 == 1)=True\n",
      "not (1 == 1)=False\n"
     ]
    }
   ],
   "source": [
    "print(f'{(1 == 1)=}')\n",
    "print(f'{not (1 == 1)=}')"
   ]
  },
  {
   "cell_type": "markdown",
   "metadata": {},
   "source": [
    "## if/else statements"
   ]
  },
  {
   "cell_type": "code",
   "execution_count": 3,
   "metadata": {},
   "outputs": [
    {
     "name": "stdout",
     "output_type": "stream",
     "text": [
      "Your integers are equal\n"
     ]
    }
   ],
   "source": [
    "first_integer = input('Enter the first integer: ')\n",
    "first_integer = int(first_integer)\n",
    "\n",
    "second_integer = input('Enter the second integer: ')\n",
    "second_integer = int(second_integer)\n",
    "\n",
    "if first_integer > second_integer:\n",
    "    print('Your first integer is bigger')\n",
    "elif first_integer < second_integer:\n",
    "    print('Your first integer is smaller')\n",
    "else:\n",
    "    print('Your integers are equal')"
   ]
  },
  {
   "cell_type": "markdown",
   "metadata": {},
   "source": [
    "## Walrus Operator\n",
    "### Only in python 3.9+\n",
    "\n",
    "This assignment + conditional operation\n",
    "```py\n",
    "number = float(input('Enter a number'))\n",
    "if number > 0:\n",
    "    ...\n",
    "```\n",
    "\n",
    "Is equivalent to this walrus operation\n",
    "```py\n",
    "if (number := float(input('Enter a number'))) > 0:\n",
    "    ...\n",
    "```"
   ]
  },
  {
   "cell_type": "code",
   "execution_count": 7,
   "metadata": {},
   "outputs": [
    {
     "ename": "ValueError",
     "evalue": "invalid literal for int() with base 10: ''",
     "output_type": "error",
     "traceback": [
      "\u001b[1;31m---------------------------------------------------------------------------\u001b[0m",
      "\u001b[1;31mValueError\u001b[0m                                Traceback (most recent call last)",
      "\u001b[1;32mc:\\Users\\Temp\\Documents\\Lessons\\4_conditionals.ipynb Cell 25'\u001b[0m in \u001b[0;36m<cell line: 1>\u001b[1;34m()\u001b[0m\n\u001b[1;32m----> <a href='vscode-notebook-cell:/c%3A/Users/Temp/Documents/Lessons/4_conditionals.ipynb#ch0000024?line=0'>1</a>\u001b[0m \u001b[39mif\u001b[39;00m (number \u001b[39m:=\u001b[39m \u001b[39mint\u001b[39;49m(\u001b[39minput\u001b[39;49m(\u001b[39m'\u001b[39;49m\u001b[39mEnter a number\u001b[39;49m\u001b[39m'\u001b[39;49m))) \u001b[39m>\u001b[39m \u001b[39m0\u001b[39m:\n\u001b[0;32m      <a href='vscode-notebook-cell:/c%3A/Users/Temp/Documents/Lessons/4_conditionals.ipynb#ch0000024?line=1'>2</a>\u001b[0m     \u001b[39mprint\u001b[39m(\u001b[39m'\u001b[39m\u001b[39mYou have entered a positive number\u001b[39m\u001b[39m'\u001b[39m)\n\u001b[0;32m      <a href='vscode-notebook-cell:/c%3A/Users/Temp/Documents/Lessons/4_conditionals.ipynb#ch0000024?line=2'>3</a>\u001b[0m \u001b[39melif\u001b[39;00m number \u001b[39m<\u001b[39m \u001b[39m0\u001b[39m:\n",
      "\u001b[1;31mValueError\u001b[0m: invalid literal for int() with base 10: ''"
     ]
    }
   ],
   "source": [
    "if (number := float(input('Enter a number'))) > 0:\n",
    "    print('You have entered a positive number')\n",
    "elif number < 0:\n",
    "    print('You have entered a negative number')\n",
    "else:\n",
    "    print('You have entered the \"zero\" number')"
   ]
  }
 ],
 "metadata": {
  "interpreter": {
   "hash": "328f1243ec1e2ba0e1519591ae4cf990ac53bbd6d3b113c7991c7fabd8bcda3b"
  },
  "kernelspec": {
   "display_name": "Python 3.10.2 64-bit",
   "language": "python",
   "name": "python3"
  },
  "language_info": {
   "codemirror_mode": {
    "name": "ipython",
    "version": 3
   },
   "file_extension": ".py",
   "mimetype": "text/x-python",
   "name": "python",
   "nbconvert_exporter": "python",
   "pygments_lexer": "ipython3",
   "version": "3.10.2"
  },
  "orig_nbformat": 4
 },
 "nbformat": 4,
 "nbformat_minor": 2
}
