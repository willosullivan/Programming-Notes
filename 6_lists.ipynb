{
 "cells": [
  {
   "cell_type": "markdown",
   "metadata": {},
   "source": [
    "# Lists\n",
    "A collection of objects"
   ]
  },
  {
   "cell_type": "code",
   "execution_count": null,
   "metadata": {},
   "outputs": [],
   "source": [
    "number_list = [1, 2, 3, 4]\n",
    "string_list = ['a', 'b', 'c']\n",
    "dict_list = [{'a':1}, {'a':2}, {'b':'c'}]\n",
    "list_list = [ [1, 2], ['a', 'b'], [{}] ]\n",
    "random_list = [1, 'a', {}, ['b']]"
   ]
  },
  {
   "cell_type": "markdown",
   "metadata": {},
   "source": [
    "## Indexing lists\n",
    "This is the process of fetching a single variable from the list using `[]`. The counting starts from `0` for the first element.\n",
    "\n",
    "Negative values indicate that we start from the last element in the list. For example, `-2` will fetch the 2nd to the last element."
   ]
  },
  {
   "cell_type": "code",
   "execution_count": 68,
   "metadata": {},
   "outputs": [
    {
     "name": "stdout",
     "output_type": "stream",
     "text": [
      "random_list[2]={}\n",
      "random_list[-3]='a'\n",
      "language='Python'\n",
      "version='3.8.10'\n"
     ]
    }
   ],
   "source": [
    "random_list = [1, 'a', {}, ['b']]\n",
    "print(f'{random_list[2]=}') # 3rd element\n",
    "print(f'{random_list[-3]=}') # 3rd to the last element\n",
    "\n",
    "fixed_length_list = ['Python', '3.8.10']\n",
    "language, version = fixed_length_list\n",
    "print(f'{language=}')\n",
    "print(f'{version=}')"
   ]
  },
  {
   "cell_type": "markdown",
   "metadata": {},
   "source": [
    "## Slicing lists\n",
    "This is the process of fetching a subset of the list using `[start:stop]`. Similarly to indexing, the counting starts from `0` for the first element. It also supports negative numbers.\n",
    "\n",
    "The element at the `stop` index here, however, is not included in the result.\n",
    "\n",
    "Additionally, if `start` index is not provided, the slice starts from the first element. If `stop` is not provided, the slice stops from the last element."
   ]
  },
  {
   "cell_type": "code",
   "execution_count": 21,
   "metadata": {},
   "outputs": [
    {
     "name": "stdout",
     "output_type": "stream",
     "text": [
      "random_list[1:3]=['a', {}]\n",
      "random_list[:2]=[1, 'a']\n",
      "random_list[-3:]=['a', {}, ['b']]\n"
     ]
    }
   ],
   "source": [
    "random_list = [1, 'a', {}, ['b']]\n",
    "print(f'{random_list[1:3]=}') # 2nd up to 4th elements\n",
    "print(f'{random_list[:2]=}') # 1st up to 2nd elements\n",
    "print(f'{random_list[-3:]=}') # 3rd to the last up to last elements"
   ]
  },
  {
   "cell_type": "markdown",
   "metadata": {},
   "source": [
    "## Membership Operations\n",
    "This is the process of checking whether a value is in the list or not. This is done with the format:\n",
    "```\n",
    "<value> in list_variable\n",
    "<value> not in list_variable\n",
    "```\n",
    "\n",
    "**This applies to all types of collections including `string`, `set`, `tuple`, and `dictionary`**"
   ]
  },
  {
   "cell_type": "code",
   "execution_count": 1,
   "metadata": {},
   "outputs": [
    {
     "name": "stdout",
     "output_type": "stream",
     "text": [
      "\"a\" in random_list=True\n",
      " {} not in random_list=False\n"
     ]
    }
   ],
   "source": [
    "random_list = [1, 'a', {}, ['b']]\n",
    "\n",
    "print(f'{\"a\" in random_list=}')\n",
    "print(f'{ {} not in random_list=}')"
   ]
  },
  {
   "cell_type": "markdown",
   "metadata": {},
   "source": [
    "## Common List Functions\n",
    "This only lists the common list functions used. An exhaustive list can be found in Python's documentation:\n",
    "\n",
    "https://docs.python.org/3/tutorial/datastructures.html#more-on-lists"
   ]
  },
  {
   "cell_type": "markdown",
   "metadata": {},
   "source": [
    "### len()\n",
    "Returns the length of the list. Useful for batching or counting the number of inputs."
   ]
  },
  {
   "cell_type": "code",
   "execution_count": 38,
   "metadata": {},
   "outputs": [
    {
     "name": "stdout",
     "output_type": "stream",
     "text": [
      "4\n"
     ]
    }
   ],
   "source": [
    "random_list = [1, 'a', {}, ['b']]\n",
    "print(len(random_list))"
   ]
  },
  {
   "cell_type": "markdown",
   "metadata": {},
   "source": [
    "### Insertion Functions\n",
    "These are functions that insert data into the list."
   ]
  },
  {
   "cell_type": "code",
   "execution_count": 64,
   "metadata": {},
   "outputs": [
    {
     "name": "stdout",
     "output_type": "stream",
     "text": [
      "[1, 2, 3, 4]\n",
      "[1, 5, 2, 3, 4]\n",
      "[1, 5, 2, 3, 4, 3, 2, 1, -1, -2]\n"
     ]
    }
   ],
   "source": [
    "my_list = [1, 2, 3]\n",
    "\n",
    "# Insert the value `4` at the end of the list\n",
    "my_list.append(4)\n",
    "print(my_list)\n",
    "\n",
    "# Insert `5` to index `1`\n",
    "my_list.insert(1, 5)\n",
    "print(my_list)\n",
    "\n",
    "# Insert all elements from the `[3,2,1]` list to the end of the list\n",
    "my_list.extend([3,2,1])\n",
    "my_list.extend({-1, -2})\n",
    "print(my_list)"
   ]
  },
  {
   "cell_type": "markdown",
   "metadata": {},
   "source": [
    "### Deletion Functions\n",
    "These are functions that removes data from the list"
   ]
  },
  {
   "cell_type": "markdown",
   "metadata": {},
   "source": [
    "#### pop()\n",
    "This removes data starting from the end of the list. It also returns the element that was removed from the list. Useful when blindly removing data from the list to slowly shrink the memory usage.\n",
    "\n",
    "If given an index parameter, it will remove the element in the index instead.\n",
    "\n",
    "**This will throw an error if the list is empty**"
   ]
  },
  {
   "cell_type": "code",
   "execution_count": 2,
   "metadata": {},
   "outputs": [
    {
     "name": "stdout",
     "output_type": "stream",
     "text": [
      "[1, 2, 3, 2, 1]\n",
      "removed_data=0\n",
      "[1, 2, 2, 1]\n",
      "1\n",
      "2\n",
      "2\n",
      "1\n"
     ]
    },
    {
     "ename": "IndexError",
     "evalue": "pop from empty list",
     "output_type": "error",
     "traceback": [
      "\u001b[0;31m---------------------------------------------------------------------------\u001b[0m",
      "\u001b[0;31mIndexError\u001b[0m                                Traceback (most recent call last)",
      "\u001b[1;32m/home/rakercy/research/programming_lessons/6_lists.ipynb Cell 16'\u001b[0m in \u001b[0;36m<cell line: 8>\u001b[0;34m()\u001b[0m\n\u001b[1;32m      <a href='vscode-notebook-cell:/home/rakercy/research/programming_lessons/6_lists.ipynb#ch0000015?line=4'>5</a>\u001b[0m my_list\u001b[39m.\u001b[39mpop(\u001b[39m2\u001b[39m)\n\u001b[1;32m      <a href='vscode-notebook-cell:/home/rakercy/research/programming_lessons/6_lists.ipynb#ch0000015?line=5'>6</a>\u001b[0m \u001b[39mprint\u001b[39m(my_list)\n\u001b[0;32m----> <a href='vscode-notebook-cell:/home/rakercy/research/programming_lessons/6_lists.ipynb#ch0000015?line=7'>8</a>\u001b[0m \u001b[39mwhile\u001b[39;00m element \u001b[39m:=\u001b[39m my_list\u001b[39m.\u001b[39;49mpop():\n\u001b[1;32m      <a href='vscode-notebook-cell:/home/rakercy/research/programming_lessons/6_lists.ipynb#ch0000015?line=8'>9</a>\u001b[0m     \u001b[39mprint\u001b[39m(element)\n",
      "\u001b[0;31mIndexError\u001b[0m: pop from empty list"
     ]
    }
   ],
   "source": [
    "my_list = [1, 2, 3, 2, 1, 0]\n",
    "removed_data = my_list.pop()\n",
    "print(my_list)\n",
    "print(f'{removed_data=}')\n",
    "my_list.pop(2)\n",
    "print(my_list)\n",
    "\n",
    "# while element := my_list.pop():\n",
    "#     print(element)\n"
   ]
  },
  {
   "cell_type": "markdown",
   "metadata": {},
   "source": [
    "#### remove()\n",
    "This removes the first element that is equal to the input. Useful when the list needs to be cleaned.\n",
    "\n",
    "**This will throw an error if the value is not in the list**"
   ]
  },
  {
   "cell_type": "code",
   "execution_count": 4,
   "metadata": {},
   "outputs": [
    {
     "name": "stdout",
     "output_type": "stream",
     "text": [
      "['January', 'March', 'April', 'May']\n"
     ]
    }
   ],
   "source": [
    "months_available = [\n",
    "    'January',\n",
    "    'February',\n",
    "    'March',\n",
    "    'April',\n",
    "    'May'\n",
    "]\n",
    "months_available.remove('February')\n",
    "print(months_available)\n",
    "# months_available.remove('February')"
   ]
  },
  {
   "cell_type": "markdown",
   "metadata": {},
   "source": [
    "#### clear()\n",
    "This removes all contents from the list. Useful when the list is to be reused but existing content is unnecessary."
   ]
  },
  {
   "cell_type": "code",
   "execution_count": 6,
   "metadata": {},
   "outputs": [
    {
     "name": "stdout",
     "output_type": "stream",
     "text": [
      "batch=['computer']\n",
      "batch=['computer', 'biology']\n",
      "batch=['computer', 'biology', 'electronics']\n",
      "`batch` has been cleared: batch=[]\n",
      "batch=['geology']\n",
      "batch=['geology', 'communications']\n",
      "`batch` has been cleared: batch=[]\n"
     ]
    }
   ],
   "source": [
    "patents = ['computer', 'biology', 'electronics', 'geology', 'communications']\n",
    "def process_patents(patents):\n",
    "    \"\"\"\n",
    "    TODO: Store the patents in the database\n",
    "    \"\"\"\n",
    "    return patents\n",
    "\n",
    "batch = []\n",
    "for patent in patents:\n",
    "    batch.append(patent)\n",
    "    print(f'{batch=}')\n",
    "    if len(batch) > 2:\n",
    "        process_patents(batch)\n",
    "        batch.clear()\n",
    "        print(f'`batch` has been cleared: {batch=}')\n",
    "\n",
    "if len(batch) > 0:\n",
    "    process_patents(batch)\n",
    "    batch.clear()\n",
    "    print(f'`batch` has been cleared: {batch=}')"
   ]
  },
  {
   "cell_type": "markdown",
   "metadata": {},
   "source": [
    "### Sorting Functions\n",
    "These are functions that sorts the list."
   ]
  },
  {
   "cell_type": "markdown",
   "metadata": {},
   "source": [
    "#### sort()\n",
    "This sorts the list according to their value. If it's a list of string, it will be sorted accoring to their ASCII index.\n",
    "\n",
    "See this documentation for ASCII (see the `DEC` column)\n",
    "https://www.ascii-code.com/\n",
    "\n",
    "`sort()` can also receive a `key` input which can be a function that returns how the list will be indexed."
   ]
  },
  {
   "cell_type": "code",
   "execution_count": 51,
   "metadata": {},
   "outputs": [
    {
     "name": "stdout",
     "output_type": "stream",
     "text": [
      "numbers=[-2, 2, 3, 5, 5.1]\n",
      "strings=['1', '2', 'A', 'B', '_', 'a']\n",
      "['A', 'B', 'a', '1', '2', '_']\n"
     ]
    }
   ],
   "source": [
    "numbers = [3, 2, 5.1, 5, -2]\n",
    "numbers.sort()\n",
    "print(f'{numbers=}')\n",
    "\n",
    "strings = ['a', 'B', 'A', '1', '2', '_']\n",
    "strings.sort()\n",
    "print(f'{strings=}')\n",
    "\n",
    "\n",
    "def letters_first(value):\n",
    "    if value.isalpha():\n",
    "        return (0, value)\n",
    "    # Include some gap so that if something else needs to be between\n",
    "    # letters and numbers, it's easier to refactor\n",
    "    elif value.isnumeric():\n",
    "        return (10, value)\n",
    "    else:\n",
    "        return (99999, value)\n",
    "\n",
    "strings.sort(key=letters_first)\n",
    "print(strings)"
   ]
  },
  {
   "cell_type": "markdown",
   "metadata": {},
   "source": [
    "#### reverse()\n",
    "Same as sort() but in reversed order. However, this cannot have any paremeters."
   ]
  },
  {
   "cell_type": "code",
   "execution_count": 58,
   "metadata": {},
   "outputs": [
    {
     "name": "stdout",
     "output_type": "stream",
     "text": [
      "[-2, 5, 5.1, 2, 3]\n"
     ]
    }
   ],
   "source": [
    "# NOTE: For some reasons, -2 is still shown first\n",
    "# TODO: Figure out the rationale behind negative numbers\n",
    "numbers = [3, 2, 5.1, 5, -2]\n",
    "numbers.reverse()\n",
    "print(numbers)"
   ]
  },
  {
   "cell_type": "markdown",
   "metadata": {},
   "source": [
    "### copy()\n",
    "Copies the list to another variable. This is useful when a list needs to be updated without touching the original one."
   ]
  },
  {
   "cell_type": "code",
   "execution_count": 7,
   "metadata": {},
   "outputs": [
    {
     "name": "stdout",
     "output_type": "stream",
     "text": [
      "original_list=[1, 2, 3]\n",
      "draft_list=[1, 2, 3, 100]\n",
      "original_list=[1, 2, 3]\n"
     ]
    }
   ],
   "source": [
    "original_list = [1, 2, 3]\n",
    "print(f'{original_list=}')\n",
    "\n",
    "draft_list = original_list.copy()\n",
    "draft_list.append(100)\n",
    "print(f'{draft_list=}')\n",
    "print(f'{original_list=}')"
   ]
  },
  {
   "cell_type": "markdown",
   "metadata": {},
   "source": [
    "## Tuple vs Lists\n",
    "Tuples are immutable version of the list. Any update operation above is not present in tuples. They are useful to prevent unintentional updates and when using as key values for dictionaries."
   ]
  },
  {
   "cell_type": "markdown",
   "metadata": {},
   "source": [
    "## Other notes\n",
    "When used as conditionals, a non-empty list is considered a `True` whereas an empty list is a `False`. Useful when needing to check whether the list is empty or not.\n",
    "\n",
    "**Considered means that it will pass the `if/else` statement but its value itself is not a boolean, ie `[1,2,3] != True`**"
   ]
  },
  {
   "cell_type": "code",
   "execution_count": 11,
   "metadata": {},
   "outputs": [
    {
     "name": "stdout",
     "output_type": "stream",
     "text": [
      "Ana\n",
      "Bob\n"
     ]
    }
   ],
   "source": [
    "authors = ['Bob', 'Ana']\n",
    "\n",
    "while authors:\n",
    "    author = authors.pop()\n",
    "    print(author)\n",
    "\n",
    "# Another `pop()` will throw an error\n",
    "# authors.pop()"
   ]
  }
 ],
 "metadata": {
  "interpreter": {
   "hash": "767d51c1340bd893661ea55ea3124f6de3c7a262a8b4abca0554b478b1e2ff90"
  },
  "kernelspec": {
   "display_name": "Python 3.8.10 64-bit",
   "language": "python",
   "name": "python3"
  },
  "language_info": {
   "codemirror_mode": {
    "name": "ipython",
    "version": 3
   },
   "file_extension": ".py",
   "mimetype": "text/x-python",
   "name": "python",
   "nbconvert_exporter": "python",
   "pygments_lexer": "ipython3",
   "version": "3.8.10"
  },
  "orig_nbformat": 4
 },
 "nbformat": 4,
 "nbformat_minor": 2
}
