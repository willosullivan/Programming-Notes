{
 "cells": [
  {
   "cell_type": "markdown",
   "metadata": {},
   "source": [
    "# Relational Database Options for GCP\n",
    "\n",
    "| | Notes | Use cases | Pricing |\n",
    "|-|-|-|-|\n",
    "| VM Instances | Allows full control over the whole database server (You need to setup everything starting from the OS installation, to database configuration) | Used when the database you need is not supported by Cloud SQL or Big Query (or other \"managed\" databases on GCP) | Storage, Instance Size and Runtime |\n",
    "| Cloud SQL | Only allows control on some of the database configurations because the OS and database installation are managed by Google. | Ideal for relational data that uses OLTP processing (transaction based). It can also be used for simple OLAP (analysis) queries like counting the number of inventors.| Storage, Instance Size and Runtime |\n",
    "| Big Query | ?. | Ideal for data that uses complex OLAP queries for big data as it will be able to scale better. For example, counting the average number of patents for each inventor by country.| Storage and number of queries |\n",
    "| Cloud Spanner | Only allows control on some of the database configurations because the OS and database installation are managed by Google. | Ideal for relational data that uses OLTP processing (transaction based) that needs to scale globally (for example, a 24/7 10000 transactions each second). Usually used for banking and gaming because it needs an almost 0 downtime | Storage, Instance Size and Runtime |\n",
    "\n",
    "Given our use case for the Patents View, Big Query is the one best suited for this. However, I will need to study it thoroughly first as I have only scratched the surface.\n",
    "For now, let's start with Cloud SQL as this is the one I'm most familiar with.\n",
    "\n",
    "Let's revisit using Big Query once I am fully familiar with it (most likely after we finish the Backend topic).\n",
    "\n",
    "More information here:\n",
    "https://www.toptal.com/database/google-bigquery-tutorial\n",
    "https://k21academy.com/google-cloud/cloud-sql-vs-cloud-spanner/"
   ]
  },
  {
   "cell_type": "markdown",
   "metadata": {},
   "source": [
    "## Cloud SQL\n",
    "\n",
    "You can think of this as a pre-built docker container that you only need to start and stop.\n",
    "\n",
    "Some of the things that you need to take note of when initializing:\n",
    "- `Instance ID` - The name of the instance (**This is a permanent configuration**)\n",
    "- `Password` - The password for the database server\n",
    "- `Database Version` - The \"PostgreSQL\" server version\n",
    "    - Usually, we use the latest one to future proof the database. But if existing systems use old versions that are incompatible with the latest one (rarely happens), match this to the existing system's version\n",
    "- `Region` - The region where the server will be deployed (**This is a permanent configuration**)\n",
    "    - For production, use the region where most of the compute resources (Backend Services) will be deployed. This is generally within the same region as the customer's region\n",
    "    - For testing, you can use the one closest to your location for lower network latency\n",
    "- `Zonal Availability` - The zone within the region where the server will be deployed\n",
    "    - For production systems, use multiple zones so that if the primary zone has an outage (natural calamity for example), the secondary zone will be used instead\n",
    "    - For testing, use a single zone to minimize cost\n",
    "    - Any zone will do. The only time you need to pick a specific zone is that if you have strict regulations wherein you cannot deploy servers on specific locations\n",
    "- `Machine Type` - The \"size\" of the instance where you pick CPU and Memory sizes\n",
    "    - This will directly affect the performance of the instance\n",
    "    - Upgrading/Downgrading the configurations here is commonly known as \"vertical\" scaling, since you are updating the \"size\" of the instance\n",
    "    - For testing, we can start with the smallest one (shared), then work our way upwards\n",
    "        - This is true for production as well, wherein instead of starting with the smallest one, we start with whatever we have used in tests that are \"fast enough\"\n",
    "- `Storage` - The \"size\" of the storage for the database\n",
    "    - Typically, we use `SSD` as it's waaay faster than `HDD`\n",
    "    - For testing, we can use `HDD` to save some costs since we will likely have less data for tests vs production\n",
    "    - For the capacity, we can use the smallest one and let google \"autoscale\" it instead to avoid overprovisioning\n",
    "- `Connections` - Allows us to select the networks that can connect to the server\n",
    "    - For production, always use Private IP so that anyone from the internet cannot access it directly\n",
    "    - Users who needs to access the database typically connect to a backend service and the backend service will be the one to communicate with the database\n",
    "        - This flow allows us to only show data that are authorized for the user, and not everything that is stored in the database\n",
    "    - For testing, we can use public IP so that we can connect to it directly. But I suggest we only set it to our own IP addresses and not the whole internet\n",
    "    - Also allow \"private\" connections so that we can connect to it once we start deploying the backend\n",
    "- `Backups` - Allows for automatic backup creation for the database\n",
    "    - Useful for production systems so that we can recover any lost data if a breach or production mistakes occur\n",
    "    - For testing, we can turn this off to save some costs\n",
    "- `Maintenance` - The schedule at which Google (or you) can automatically stop the instance for maintenance purposes (like upgrading the database version)\n",
    "    - Use a date/time where there are least number of users\n",
    "\n",
    "\n",
    "Additional notes\n",
    "- After creation, make sure to only allow SSL connections by selecting the \"instance\" and going to the \"SECURITY\" tab, then tick `Allow only SSL connections`\n",
    "    - This will ensure that all data transfers are encrypted"
   ]
  }
 ],
 "metadata": {
  "language_info": {
   "name": "python"
  },
  "orig_nbformat": 4
 },
 "nbformat": 4,
 "nbformat_minor": 2
}
