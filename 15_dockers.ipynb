{
 "cells": [
  {
   "cell_type": "markdown",
   "metadata": {},
   "source": [
    "# Dockers\n",
    "Allows applications to be \"packaged\" that allows portable deployment. Since the docker contains information on the infrastructure where the application runs, it will almost always run consistently even across different operating systems or cloud providers.\n",
    "\n",
    "\"Dockerized Application\" is a common term used to indicate that the application is built in a docker container."
   ]
  },
  {
   "cell_type": "markdown",
   "metadata": {},
   "source": [
    "## Dockerfile\n",
    "This defines how the infrastructure is prepared and how the application is started.\n",
    "\n",
    "Read more about the example here:\n",
    "\n",
    "https://docs.docker.com/samples/postgresql_service/"
   ]
  },
  {
   "cell_type": "markdown",
   "metadata": {},
   "source": [
    "### Building the dockerfile\n",
    "\n",
    "```sh\n",
    "docker build -t custom_postgresql -f database.Dockerfile .\n",
    "```\n",
    "- `build` indicates that we are building the docker image from a dockerfile\n",
    "- `-f` defines the filename of the dockerfile to build. If not given, it will try to find a \"Dockerfile\" filename within the same directory.\n",
    "- `-t` defines the \"name\" of the docker image being built\n",
    "- `.` means that the entire contents of the directory can be accessed by the dockerfile during build (useful when a file needs to be copied to the docker)"
   ]
  },
  {
   "cell_type": "markdown",
   "metadata": {},
   "source": [
    "### Starting the docker container\n",
    "```sh\n",
    "docker run --rm -P --name pg_test custom_postgresql\n",
    "```\n",
    "OR\n",
    "```sh\n",
    "docker run --rm -p 5432:5432 --name pg_test custom_postgresql\n",
    "```\n",
    "- `run` indicates that we are starting a docker container using the docker image\n",
    "- `--rm` indicates that the container is deleted once it stops (useful to decrease storage use when prototyping as the container is usually re-created on succeeding runs)\n",
    "- `-P` indicates that the ports for the docker is exposed to a random port for the \"host\"\n",
    "    - `-p` (the lower case `p`) allows us to specify a port to map, useful when we want the port to be predictable\n",
    "- `--name` defines the name for the docker container\n",
    "- `custom_postgresql` is the name of the docker image to run\n",
    "\n",
    "It's also possible to add a `-d` configuration to start the docker in daemon mode (background mode), allowing you to reuse the same terminal for other things.\n",
    "\n",
    "**By default, the storage of the docker container is ephemeral. This means that when the docker is deleted, the data stored is also deleted, remove `rm` if the same docker container \"name\" is to be reused.**\n",
    "\n",
    "If not deleted, the same docker container can be re-started by executing the following command:\n",
    "```sh\n",
    "docker start pg_test\n",
    "```\n",
    "\n",
    "The docker can also be stopped using the following command:\n",
    "```sh\n",
    "docker stop pg_test\n",
    "```\n",
    "\n",
    "**`start` runs in daemon mode by default**\n",
    "\n",
    "**In our discussions, we will run the docker container in daemon mode without `rm` so that we can reuse the same container and not lose the information that we store.**\n",
    "```sh\n",
    "docker run -d -p 5432:5432 --name pg_test custom_postgresql\n",
    "```"
   ]
  },
  {
   "cell_type": "markdown",
   "metadata": {},
   "source": [
    "## Monitoring the docker logs\n",
    "```sh\n",
    "docker logs -f pg_test\n",
    "```\n",
    "- `logs` indicates that we are fetching the logs from `pg_test` container\n",
    "- `-f` indicates that we continue to follow the logs (including new entries)"
   ]
  },
  {
   "cell_type": "markdown",
   "metadata": {},
   "source": [
    "### Connecting to the docker container\n",
    "\n",
    "```sh\n",
    "docker exec -it pg_test bash\n",
    "```\n",
    "- `exec` indicates that we are executing a command in the docker container\n",
    "- `-it` indicates that the execution allows us to have interactivity\n",
    "- `pg_test` is the name of the docker container that is running\n",
    "- `bash` is the command that we will run in the docker container"
   ]
  },
  {
   "cell_type": "markdown",
   "metadata": {},
   "source": [
    "### Connecting to the PostgreSQL server\n",
    "```sh\n",
    "psql -h localhost -p 5432 -d docker -U docker --password\n",
    "```\n",
    "- `-h` defines the server IP address (because we're in the same environment as the server, this is just localhost)\n",
    "- `-p` defines the server port address\n",
    "- `-d` defines the database name\n",
    "- `-U` defines the user name for the database\n",
    "- `--password` indicates that we will input the password manually"
   ]
  }
 ],
 "metadata": {
  "interpreter": {
   "hash": "e7370f93d1d0cde622a1f8e1c04877d8463912d04d973331ad4851f04de6915a"
  },
  "kernelspec": {
   "display_name": "Python 3.8.10 64-bit",
   "language": "python",
   "name": "python3"
  },
  "language_info": {
   "codemirror_mode": {
    "name": "ipython",
    "version": 3
   },
   "file_extension": ".py",
   "mimetype": "text/x-python",
   "name": "python",
   "nbconvert_exporter": "python",
   "pygments_lexer": "ipython3",
   "version": "3.8.10"
  },
  "orig_nbformat": 4
 },
 "nbformat": 4,
 "nbformat_minor": 2
}
