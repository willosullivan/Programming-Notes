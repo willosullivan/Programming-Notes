{
 "cells": [
  {
   "cell_type": "markdown",
   "metadata": {},
   "source": [
    "# Strings\n",
    "Strings are variables that are enclosed in single quotes (`'`) or double quotes (`\"`). They are often used to store textual information."
   ]
  },
  {
   "cell_type": "markdown",
   "metadata": {},
   "source": [
    "## Escaping strings\n",
    "When using `f` to format strings, the `{` (or `}`) character can be escaped by doubling it like: `{{`"
   ]
  },
  {
   "cell_type": "code",
   "execution_count": 10,
   "metadata": {},
   "outputs": [
    {
     "name": "stdout",
     "output_type": "stream",
     "text": [
      "Showing the bracket character {}\n"
     ]
    }
   ],
   "source": [
    "print(f'Showing the bracket character {{}}')"
   ]
  },
  {
   "cell_type": "markdown",
   "metadata": {},
   "source": [
    "When the \"tab\" character is needed, type `\\t`. This can be useful for indenting text to prettify them."
   ]
  },
  {
   "cell_type": "code",
   "execution_count": 2,
   "metadata": {},
   "outputs": [
    {
     "name": "stdout",
     "output_type": "stream",
     "text": [
      "I can indent a \t message in the middle\n",
      "\t\t I can even indent at the start\n"
     ]
    }
   ],
   "source": [
    "print('I can indent a \\t message in the middle')\n",
    "print('\\t\\t I can even indent at the start')"
   ]
  },
  {
   "cell_type": "markdown",
   "metadata": {},
   "source": [
    "When a \"newline\" is needed, type `\\n`. This can be useful for writing text paragraphs or when writing to text files."
   ]
  },
  {
   "cell_type": "code",
   "execution_count": 4,
   "metadata": {},
   "outputs": [
    {
     "name": "stdout",
     "output_type": "stream",
     "text": [
      "This will be on the first line\n",
      "While this will be on the second line\n"
     ]
    }
   ],
   "source": [
    "print('This will be on the first line\\nWhile this will be on the second line')"
   ]
  },
  {
   "cell_type": "markdown",
   "metadata": {},
   "source": [
    "In general, the `\\` character is used to escape any special characters. For example, if you have used the single quote (`'`) to write a string, but still want to use it as a literl character, you can prepend `\\` to it like so `\\'`, and it will show as `\\`\n",
    "\n",
    "To escape the `\\` character, just double it like: `\\\\`"
   ]
  },
  {
   "cell_type": "code",
   "execution_count": 3,
   "metadata": {},
   "outputs": [
    {
     "name": "stdout",
     "output_type": "stream",
     "text": [
      "The single quote (') can be printed this way\n",
      "Even the backslash character itself can be printed: \\\n"
     ]
    }
   ],
   "source": [
    "print('The single quote (\\') can be printed this way')\n",
    "print('Even the backslash character itself can be printed: \\\\')"
   ]
  },
  {
   "cell_type": "markdown",
   "metadata": {},
   "source": [
    "## Multi-line strings\n",
    "Multi-line strings are strings that are enclosed in three single quotes (`'`) or double quotes (`\"`). Any text enclosed by the \"triple quotes\" are considered as a part of the string (including indentations and newlines)"
   ]
  },
  {
   "cell_type": "code",
   "execution_count": 13,
   "metadata": {},
   "outputs": [
    {
     "name": "stdout",
     "output_type": "stream",
     "text": [
      "---\n",
      "    This is a\n",
      "        multi-line\n",
      "string\n",
      "#  dasdasds asd\n",
      "'\n",
      "    ===\n"
     ]
    }
   ],
   "source": [
    "print(\n",
    "    '''---\n",
    "    This is a\n",
    "        multi-line\n",
    "string\n",
    "#  dasdasds asd\n",
    "'\n",
    "    ==='''\n",
    ")"
   ]
  },
  {
   "cell_type": "markdown",
   "metadata": {},
   "source": [
    "Because Python doesn't have a multi-line comment, multi-line strings are used as a work around instead"
   ]
  },
  {
   "cell_type": "code",
   "execution_count": 14,
   "metadata": {},
   "outputs": [
    {
     "name": "stdout",
     "output_type": "stream",
     "text": [
      "3\n"
     ]
    }
   ],
   "source": [
    "def add(x, y):\n",
    "    \"\"\"\n",
    "    This function requires 2 inputs `x` and `y`.\n",
    "\n",
    "    Returns:\n",
    "    >>> x+y\n",
    "    \"\"\"\n",
    "    return x + y  #  Return the sum\n",
    "\n",
    "print(add(1,2))"
   ]
  },
  {
   "cell_type": "code",
   "execution_count": 16,
   "metadata": {},
   "outputs": [
    {
     "name": "stdout",
     "output_type": "stream",
     "text": [
      "['\\n    This lists the people in the company\\n    Bob', 'Ana', 'Will', 'Cyril']\n"
     ]
    }
   ],
   "source": [
    "# NOTE: This will include the actual string in the list:\n",
    "people = [\n",
    "    '''\n",
    "    This lists the people in the company\n",
    "    '''\n",
    "    'Bob',\n",
    "    'Ana',\n",
    "    'Will',\n",
    "    # NOTE: something\n",
    "    'Cyril',\n",
    "]\n",
    "\n",
    "print(people)"
   ]
  },
  {
   "cell_type": "markdown",
   "metadata": {},
   "source": [
    "## Common String Functions\n",
    "This only lists the common string functions used. An exhaustive list can be found in Python's documentation:\n",
    "https://docs.python.org/3/library/stdtypes.html#string-methods"
   ]
  },
  {
   "cell_type": "markdown",
   "metadata": {},
   "source": [
    "### len()\n",
    "Returns the number of characters in the string. Useful for finding the minimum, maximum or average text sizes (a data that can be used to optimize the system further on). It can also be used for input validation (like minimum 12 characters for a password)"
   ]
  },
  {
   "cell_type": "code",
   "execution_count": 81,
   "metadata": {},
   "outputs": [
    {
     "name": "stdout",
     "output_type": "stream",
     "text": [
      "35\n"
     ]
    }
   ],
   "source": [
    "print(len(\"This is a string with 35 characters\"))"
   ]
  },
  {
   "cell_type": "markdown",
   "metadata": {},
   "source": [
    "### count()\n",
    "Returns the occurrence count of a \"substring\" within the string. Useful for finding how many times a character (or word) is used within the text."
   ]
  },
  {
   "cell_type": "code",
   "execution_count": 82,
   "metadata": {},
   "outputs": [
    {
     "name": "stdout",
     "output_type": "stream",
     "text": [
      "9\n"
     ]
    }
   ],
   "source": [
    "random_abstract = \"Computer network method and apparatus provides targeting of appropriate audience based on psychographic or behavioral profiles of end users. The psychographic profile is formed by recording computer activity and viewing habits of the end user. Content of categories of interest and display format in each category are revealed by the psychographic profile, based on user viewing of agate information. Using the profile (with or without additional user demographics), advertisements are displayed to appropriately selected users. Based on regression analysis of recorded responses of a first set of users viewing the advertisements, the target user profile is refined. Viewing by and regression analysis of recorded responses of subsequent sets of users continually auto-targets and customizes ads for the optimal end user audience.\"\n",
    "print(random_abstract.count(\"user\"))"
   ]
  },
  {
   "cell_type": "markdown",
   "metadata": {},
   "source": [
    "### String case change functions\n",
    "These are functions that creates a new string with a different character casing. Useful when needing to standardize texts like wanting to compare that `Dog == dog` (without changing their case, they are not equal because of the `D` vs `d` character)."
   ]
  },
  {
   "cell_type": "code",
   "execution_count": 74,
   "metadata": {},
   "outputs": [
    {
     "name": "stdout",
     "output_type": "stream",
     "text": [
      "text.lower()='this is a string. the german letter: ß, corresponds to `ss`'\n",
      "text.casefold()='this is a string. the german letter: ss, corresponds to `ss`'\n",
      "text.upper()='THIS IS A STRING. THE GERMAN LETTER: SS, CORRESPONDS TO `SS`'\n",
      "text.capitalize()='This is a string. the german letter: ß, corresponds to `ss`'\n",
      "text.swapcase()='tHiS IS A string. tHE gERMAN LETTER: SS, CORRESPONDS TO `SS`'\n"
     ]
    }
   ],
   "source": [
    "text = 'ThIs is a STRING. The German letter: ß, corresponds to `ss`'\n",
    "\n",
    "print(f'{text.lower()=}')\n",
    "print(f'{text.casefold()=}')  # NOTE: Similar to `lower()` but converts more characters\n",
    "print(f'{text.upper()=}')\n",
    "print(f'{text.capitalize()=}')\n",
    "print(f'{text.swapcase()=}')"
   ]
  },
  {
   "cell_type": "markdown",
   "metadata": {},
   "source": [
    "### String \"datatype\" check functions\n",
    "These are functions that helps with checking the \"datatype\" for a string. For example, verifying if the string is an integer, float, alphanumeric, etc."
   ]
  },
  {
   "cell_type": "code",
   "execution_count": 17,
   "metadata": {},
   "outputs": [
    {
     "name": "stdout",
     "output_type": "stream",
     "text": [
      "\"A1\".isalnum()=True\n",
      "\"B\".isalpha()=True\n",
      "\"2\".isnumeric()=True\n",
      "\"2.1\".isnumeric()=False\n",
      "\"-2\".isnumeric()=False\n",
      "\"abc\".islower()=True\n",
      "\"_123-\".islower()=False\n",
      "\"abc_123-\".islower()=True\n",
      "\"DEF\".isupper()=True\n",
      "\"_123-\".isupper()=False\n",
      "\"DEF_123-\".isupper()=True\n"
     ]
    }
   ],
   "source": [
    "print(f'{\"A1\".isalnum()=}')\n",
    "print(f'{\"B\".isalpha()=}')\n",
    "print(f'{\"2\".isnumeric()=}')\n",
    "print(f'{\"2.1\".isnumeric()=}')\n",
    "print(f'{\"-2\".isnumeric()=}')\n",
    "print(f'{\"abc\".islower()=}')\n",
    "print(f'{\"_123-\".islower()=}')\n",
    "print(f'{\"abc_123-\".islower()=}')\n",
    "print(f'{\"DEF\".isupper()=}')\n",
    "print(f'{\"_123-\".isupper()=}')\n",
    "print(f'{\"DEF_123-\".isupper()=}')"
   ]
  },
  {
   "cell_type": "markdown",
   "metadata": {},
   "source": [
    "### String start/ending checks\n",
    "These are functions that helps check whether a given string starts or ends with another substring. Useful for parsing contextual data from strings when the texts are standardized."
   ]
  },
  {
   "cell_type": "code",
   "execution_count": 76,
   "metadata": {},
   "outputs": [
    {
     "name": "stdout",
     "output_type": "stream",
     "text": [
      "Someone asked a question!\n",
      "\tissue_title=\"Random: How was everyone's weekend?\"\n",
      "Someone needs help!\n",
      "\tissue_title='Help: I need to fix my laptop!'\n"
     ]
    }
   ],
   "source": [
    "issue_titles = [\n",
    "    'Random: How was everyone\\'s weekend?',\n",
    "    'Help: I need to fix my laptop!',\n",
    "]\n",
    "\n",
    "for issue_title in issue_titles:\n",
    "    if issue_title.lower().startswith('help:'):\n",
    "        print('Someone needs help!')\n",
    "        print(f'\\t{issue_title=}')\n",
    "    elif issue_title.endswith('?'):\n",
    "        print('Someone asked a question!')\n",
    "        print(f'\\t{issue_title=}')"
   ]
  },
  {
   "cell_type": "markdown",
   "metadata": {},
   "source": [
    "### spliting the string\n",
    "These are functions that helps split the string using a given \"delimiter\". For example, CSV files separate their strings using the comma (`,`) character. In order to create a list from the CSV string, we need to split it using the `,` character as the delimiter."
   ]
  },
  {
   "cell_type": "code",
   "execution_count": 78,
   "metadata": {},
   "outputs": [
    {
     "name": "stdout",
     "output_type": "stream",
     "text": [
      "csv_string.split(\",\")=['this', 'is', 'a', 'sample', 'csv', 'string']\n",
      "csv_string.rsplit(\",\", maxsplit=2)=['this,is,a,sample', 'csv', 'string']\n",
      "multiline_string.splitlines()=['', 'This', 'is', 'a', 'paragraph']\n"
     ]
    }
   ],
   "source": [
    "csv_string = 'this,is,a,sample,csv,string'\n",
    "\n",
    "print(f'{csv_string.split(\",\")=}')\n",
    "print(f'{csv_string.rsplit(\",\", maxsplit=2)=}')\n",
    "\n",
    "multiline_string = '''\n",
    "This\n",
    "is\n",
    "a\n",
    "paragraph\n",
    "'''\n",
    "\n",
    "print(f'{multiline_string.splitlines()=}')"
   ]
  },
  {
   "cell_type": "markdown",
   "metadata": {},
   "source": [
    "### Combining a list to a string\n",
    "This is useful when the string is initially a list and we need to combine them into a single string."
   ]
  },
  {
   "cell_type": "code",
   "execution_count": 64,
   "metadata": {},
   "outputs": [
    {
     "name": "stdout",
     "output_type": "stream",
     "text": [
      "McTaggart, Edelmiro, Osher\n"
     ]
    }
   ],
   "source": [
    "name = [\n",
    "    'McTaggart', # Last Name\n",
    "    'Edelmiro', # First Name\n",
    "    'Osher', # Middle Name\n",
    "]\n",
    "\n",
    "full_name = ', '.join(name)\n",
    "print(full_name)"
   ]
  },
  {
   "cell_type": "markdown",
   "metadata": {},
   "source": [
    "## Other notes\n",
    "When used as conditionals, a non-empty string is considered a `True` whereas an empty string is a `False`. Useful when needing to check whether the string is empty or not.\n",
    "\n",
    "**Considered means that it will pass the `if/else` statement but its value itself is not a boolean, ie `'String' != True`**"
   ]
  },
  {
   "cell_type": "code",
   "execution_count": 19,
   "metadata": {},
   "outputs": [
    {
     "name": "stdout",
     "output_type": "stream",
     "text": [
      "You have not entered a value\n"
     ]
    }
   ],
   "source": [
    "input_text = input()\n",
    "if input_text:\n",
    "    print('You have entered a value')\n",
    "else:\n",
    "    print('You have not entered a value')"
   ]
  }
 ],
 "metadata": {
  "interpreter": {
   "hash": "e7370f93d1d0cde622a1f8e1c04877d8463912d04d973331ad4851f04de6915a"
  },
  "kernelspec": {
   "display_name": "Python 3.8.10 64-bit",
   "language": "python",
   "name": "python3"
  },
  "language_info": {
   "codemirror_mode": {
    "name": "ipython",
    "version": 3
   },
   "file_extension": ".py",
   "mimetype": "text/x-python",
   "name": "python",
   "nbconvert_exporter": "python",
   "pygments_lexer": "ipython3",
   "version": "3.8.10"
  },
  "orig_nbformat": 4
 },
 "nbformat": 4,
 "nbformat_minor": 2
}
