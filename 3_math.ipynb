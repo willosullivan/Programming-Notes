{
 "cells": [
  {
   "cell_type": "markdown",
   "metadata": {},
   "source": [
    "# Math"
   ]
  },
  {
   "cell_type": "markdown",
   "metadata": {},
   "source": [
    "## Decimal vs Binary vs Hex"
   ]
  },
  {
   "cell_type": "code",
   "execution_count": 2,
   "metadata": {},
   "outputs": [
    {
     "name": "stdout",
     "output_type": "stream",
     "text": [
      "decimal=11\n",
      "binary=11\n",
      "hex=11\n"
     ]
    }
   ],
   "source": [
    "# Decimal\n",
    "decimal = 11\n",
    "print(f'{decimal=}')\n",
    "\n",
    "# Binary\n",
    "# 1011 is equivalent to 1 + 2 + 8 = 11\n",
    "binary = int('0b1011', 2)\n",
    "print(f'{binary=}')\n",
    "\n",
    "# Hex\n",
    "# In hex:\n",
    "#   10 = A\n",
    "#   11 = B\n",
    "#   12 = C\n",
    "#   13 = D\n",
    "#   14 = E\n",
    "#   15 = F\n",
    "hex = 0xB\n",
    "print(f'{hex=}')"
   ]
  },
  {
   "cell_type": "markdown",
   "metadata": {},
   "source": [
    "## Arithmetic Operations"
   ]
  },
  {
   "cell_type": "markdown",
   "metadata": {},
   "source": [
    "### Addition"
   ]
  },
  {
   "cell_type": "code",
   "execution_count": 2,
   "metadata": {},
   "outputs": [
    {
     "name": "stdout",
     "output_type": "stream",
     "text": [
      "x=3\n"
     ]
    }
   ],
   "source": [
    "x = 1 + 2\n",
    "print(f'{x=}')"
   ]
  },
  {
   "cell_type": "markdown",
   "metadata": {},
   "source": [
    "### Subtraction"
   ]
  },
  {
   "cell_type": "code",
   "execution_count": 3,
   "metadata": {},
   "outputs": [
    {
     "name": "stdout",
     "output_type": "stream",
     "text": [
      "x=1\n"
     ]
    }
   ],
   "source": [
    "x = 3 - 2\n",
    "print(f'{x=}')"
   ]
  },
  {
   "cell_type": "markdown",
   "metadata": {},
   "source": [
    "### Multiplication"
   ]
  },
  {
   "cell_type": "code",
   "execution_count": 4,
   "metadata": {},
   "outputs": [
    {
     "name": "stdout",
     "output_type": "stream",
     "text": [
      "x=6\n"
     ]
    }
   ],
   "source": [
    "x = 3 * 2\n",
    "print(f'{x=}')"
   ]
  },
  {
   "cell_type": "markdown",
   "metadata": {},
   "source": [
    "### Division"
   ]
  },
  {
   "cell_type": "code",
   "execution_count": 5,
   "metadata": {},
   "outputs": [
    {
     "name": "stdout",
     "output_type": "stream",
     "text": [
      "x=1.5\n"
     ]
    }
   ],
   "source": [
    "x = 3 / 2\n",
    "print(f'{x=}')"
   ]
  },
  {
   "cell_type": "markdown",
   "metadata": {},
   "source": [
    "### Floor Division"
   ]
  },
  {
   "cell_type": "code",
   "execution_count": 5,
   "metadata": {},
   "outputs": [
    {
     "name": "stdout",
     "output_type": "stream",
     "text": [
      "x=1\n"
     ]
    }
   ],
   "source": [
    "x = 3 // 2\n",
    "print(f'{x=}')"
   ]
  },
  {
   "cell_type": "markdown",
   "metadata": {},
   "source": [
    "### Modulo Division"
   ]
  },
  {
   "cell_type": "code",
   "execution_count": 10,
   "metadata": {},
   "outputs": [
    {
     "name": "stdout",
     "output_type": "stream",
     "text": [
      "x=2\n"
     ]
    }
   ],
   "source": [
    "x = 5 % 3\n",
    "print(f'{x=}')"
   ]
  },
  {
   "cell_type": "markdown",
   "metadata": {},
   "source": [
    "### Exponent"
   ]
  },
  {
   "cell_type": "code",
   "execution_count": 11,
   "metadata": {},
   "outputs": [
    {
     "name": "stdout",
     "output_type": "stream",
     "text": [
      "x=9\n"
     ]
    }
   ],
   "source": [
    "x = 3 ** 2\n",
    "print(f'{x=}')"
   ]
  },
  {
   "cell_type": "markdown",
   "metadata": {},
   "source": [
    "## Bitwise Operations"
   ]
  },
  {
   "cell_type": "markdown",
   "metadata": {},
   "source": [
    "### Bitwise AND"
   ]
  },
  {
   "cell_type": "code",
   "execution_count": 6,
   "metadata": {},
   "outputs": [
    {
     "name": "stdout",
     "output_type": "stream",
     "text": [
      "x=1\n"
     ]
    }
   ],
   "source": [
    "# 3 = 0011\n",
    "# 5 = 0101\n",
    "# --------\n",
    "#     0001\n",
    "x = 5 & 3\n",
    "print(f'{x=}')"
   ]
  },
  {
   "cell_type": "markdown",
   "metadata": {},
   "source": [
    "### Bitwise OR"
   ]
  },
  {
   "cell_type": "code",
   "execution_count": 8,
   "metadata": {},
   "outputs": [
    {
     "name": "stdout",
     "output_type": "stream",
     "text": [
      "x=7\n"
     ]
    }
   ],
   "source": [
    "# 3 = 0011\n",
    "# 5 = 0101\n",
    "# --------\n",
    "#     0111\n",
    "x = 5 | 3\n",
    "print(f'{x=}')"
   ]
  },
  {
   "cell_type": "markdown",
   "metadata": {},
   "source": [
    "### Bitwise XOR"
   ]
  },
  {
   "cell_type": "code",
   "execution_count": 10,
   "metadata": {},
   "outputs": [
    {
     "name": "stdout",
     "output_type": "stream",
     "text": [
      "x=6\n"
     ]
    }
   ],
   "source": [
    "# 3 = 0011\n",
    "# 5 = 0101\n",
    "# --------\n",
    "#     0110\n",
    "x = 5 ^ 3\n",
    "print(f'{x=}')"
   ]
  },
  {
   "cell_type": "markdown",
   "metadata": {},
   "source": [
    "### Bitwise shift"
   ]
  },
  {
   "cell_type": "code",
   "execution_count": 12,
   "metadata": {},
   "outputs": [
    {
     "name": "stdout",
     "output_type": "stream",
     "text": [
      "x=6\n",
      "x=1\n",
      "3 << 2=12\n",
      "3 * (2**2)=12\n"
     ]
    }
   ],
   "source": [
    "# Left shift\n",
    "# 3 = 0011\n",
    "# --------\n",
    "#     0110\n",
    "x = 3 << 1\n",
    "print(f'{x=}')\n",
    "\n",
    "# Right shift\n",
    "# 3 = 0011\n",
    "# --------\n",
    "#     0001\n",
    "x = 3 >> 1\n",
    "print(f'{x=}')\n",
    "\n",
    "print(f'{3 << 2=}')\n",
    "print(f'{3 * (2**2)=}')"
   ]
  },
  {
   "cell_type": "markdown",
   "metadata": {},
   "source": [
    "### Bitwise NOT"
   ]
  },
  {
   "cell_type": "code",
   "execution_count": 13,
   "metadata": {},
   "outputs": [
    {
     "name": "stdout",
     "output_type": "stream",
     "text": [
      "x=-4\n",
      "b'\\xff\\xff\\xff\\xff\\xff\\xff\\xff\\xff\\xff\\xfc'\n"
     ]
    }
   ],
   "source": [
    "# 3 = 0011\n",
    "# --------\n",
    "#     1100\n",
    "# 1111 1111 1111 11111111 1111111111111111 ... 1100\n",
    "x = ~ 3\n",
    "print(f'{x=}')\n",
    "print(f'{x.to_bytes(10, byteorder=\"big\", signed=True)}')\n",
    "\n",
    "# F (hex) = 15 (decimal) = 1111 (binary)\n",
    "# C (hex) = 12 (decimal) = 1100 (binary)"
   ]
  },
  {
   "cell_type": "markdown",
   "metadata": {},
   "source": [
    "## Types"
   ]
  },
  {
   "cell_type": "markdown",
   "metadata": {},
   "source": [
    "### Integer"
   ]
  },
  {
   "cell_type": "code",
   "execution_count": 34,
   "metadata": {},
   "outputs": [
    {
     "name": "stdout",
     "output_type": "stream",
     "text": [
      "x=9\n"
     ]
    }
   ],
   "source": [
    "x = 9\n",
    "print(f'{x=}')"
   ]
  },
  {
   "cell_type": "markdown",
   "metadata": {},
   "source": [
    "### Float"
   ]
  },
  {
   "cell_type": "code",
   "execution_count": 15,
   "metadata": {},
   "outputs": [
    {
     "name": "stdout",
     "output_type": "stream",
     "text": [
      "x=9.01\n",
      "x=9.000000000000002\n",
      "x=9.0\n"
     ]
    }
   ],
   "source": [
    "x = 9.01\n",
    "print(f'{x=}')\n",
    "\n",
    "# 9\n",
    "# 0.01 = 1, 100 = 1/100\n",
    "\n",
    "x = 9.000000000000001\n",
    "print(f'{x=}')\n",
    "\n",
    "x = 9.000000000000000001\n",
    "print(f'{x=}')"
   ]
  },
  {
   "cell_type": "markdown",
   "metadata": {},
   "source": [
    "### Complex"
   ]
  },
  {
   "cell_type": "code",
   "execution_count": 16,
   "metadata": {},
   "outputs": [
    {
     "name": "stdout",
     "output_type": "stream",
     "text": [
      "x=(2+3j)\n",
      "x=(2.2+3j)\n"
     ]
    }
   ],
   "source": [
    "x = 2 + 3j\n",
    "print(f'{x=}')\n",
    "\n",
    "x = 2.2 + 3j\n",
    "print(f'{x=}')"
   ]
  }
 ],
 "metadata": {
  "interpreter": {
   "hash": "328f1243ec1e2ba0e1519591ae4cf990ac53bbd6d3b113c7991c7fabd8bcda3b"
  },
  "kernelspec": {
   "display_name": "Python 3.10.2 64-bit",
   "language": "python",
   "name": "python3"
  },
  "language_info": {
   "codemirror_mode": {
    "name": "ipython",
    "version": 3
   },
   "file_extension": ".py",
   "mimetype": "text/x-python",
   "name": "python",
   "nbconvert_exporter": "python",
   "pygments_lexer": "ipython3",
   "version": "3.10.2"
  },
  "orig_nbformat": 4
 },
 "nbformat": 4,
 "nbformat_minor": 2
}
