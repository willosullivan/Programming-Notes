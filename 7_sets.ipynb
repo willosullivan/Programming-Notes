{
 "cells": [
  {
   "cell_type": "markdown",
   "metadata": {},
   "source": [
    "# Sets\n",
    "A collection of \"hashable\" objects where all elements are always unique (even when adding duplicates).\n",
    "\n",
    "Hashable is defined as an object that is immutable, which allows them to be unique instances which can be used for identification."
   ]
  },
  {
   "cell_type": "markdown",
   "metadata": {},
   "source": [
    "## Sets vs Lists\n",
    "Although both are collections, list can contain duplicate values whereas set does not. Additionally, dictionaries cannot be stored in a set because they are not hashable by default, whereas they can be stored in a list.\n",
    "\n",
    "Additionally, unlike lists, sets are unordered (cannot be sorted)."
   ]
  },
  {
   "cell_type": "markdown",
   "metadata": {},
   "source": [
    "## Common Functions\n",
    "This only lists the common set functions used. An exhaustive list can be found in Python's documentation:\n",
    "\n",
    "https://docs.python.org/3/library/stdtypes.html#set-types-set-frozenset"
   ]
  },
  {
   "cell_type": "markdown",
   "metadata": {},
   "source": [
    "### Insertion Functions\n",
    "These are functions that insert data into the set."
   ]
  },
  {
   "cell_type": "code",
   "execution_count": 7,
   "metadata": {},
   "outputs": [
    {
     "name": "stdout",
     "output_type": "stream",
     "text": [
      "{1, 2, 3}\n",
      "{1, 2, 3, 4}\n",
      "{1, 2, 3, 4, 5}\n",
      "{1, 2, 3, 4, 5, 6}\n"
     ]
    }
   ],
   "source": [
    "my_set = {1, 2, 3 ,2, 1}\n",
    "print(my_set)\n",
    "\n",
    "my_set.add(4)\n",
    "print(my_set)\n",
    "\n",
    "my_set.update({1, 3, 5})\n",
    "print(my_set)\n",
    "\n",
    "my_set.update([2, 4 ,6])\n",
    "print(my_set)"
   ]
  },
  {
   "cell_type": "markdown",
   "metadata": {},
   "source": [
    "### Deletion Functions\n",
    "These are functions that removes data from the set"
   ]
  },
  {
   "cell_type": "markdown",
   "metadata": {},
   "source": [
    "#### pop()\n",
    "Removes an arbitrary element from the set. Similar to the list's `pop()`, this returns the element that was removed from the set. Useful when blindly removing data from the set to slowly shrink the memory usage.\n",
    "\n",
    "**This will throw an error if the set is empty**"
   ]
  },
  {
   "cell_type": "code",
   "execution_count": 11,
   "metadata": {},
   "outputs": [
    {
     "name": "stdout",
     "output_type": "stream",
     "text": [
      "2\n"
     ]
    }
   ],
   "source": [
    "my_set = {10, 73, 99, 2, 45, 68}\n",
    "removed_value = my_set.pop()\n",
    "print(removed_value)"
   ]
  },
  {
   "cell_type": "markdown",
   "metadata": {},
   "source": [
    "#### remove() and discard()\n",
    "Both of them removes the element from the set. However, `remove()` will throw an error if the element is not within the set whereas `discard()` will just ignore it. Useful when the set needs to be cleaned.\n",
    "\n",
    "**`remove()` will throw an error if the value is not in the list**"
   ]
  },
  {
   "cell_type": "code",
   "execution_count": 13,
   "metadata": {},
   "outputs": [
    {
     "name": "stdout",
     "output_type": "stream",
     "text": [
      "{'Ana', 'Kay'}\n",
      "{'Ana'}\n",
      "{'Ana'}\n"
     ]
    }
   ],
   "source": [
    "authors = {'Bob', 'Ana', 'Kay'}\n",
    "authors.remove('Bob')\n",
    "print(authors)\n",
    "# NOTE: Doing `authors.remove('Bob')` again will throw an error\n",
    "\n",
    "authors.discard('Kay')\n",
    "print(authors)\n",
    "authors.discard('Kay')\n",
    "print(authors)"
   ]
  },
  {
   "cell_type": "markdown",
   "metadata": {},
   "source": [
    "#### clear()\n",
    "This removes all contents from the set. Useful when the set is to be reused but existing content is unnecessary."
   ]
  },
  {
   "cell_type": "code",
   "execution_count": 14,
   "metadata": {},
   "outputs": [
    {
     "name": "stdout",
     "output_type": "stream",
     "text": [
      "batch=['Cyril']\n",
      "batch=['Cyril', 'Will']\n",
      "batch=['Cyril', 'Will', 'Ana']\n",
      "`batch` has been cleared: batch=[]\n",
      "batch=['Bob']\n",
      "batch=['Bob', 'Kay']\n",
      "batch=['Bob', 'Kay', 'Smith']\n",
      "`batch` has been cleared: batch=[]\n"
     ]
    }
   ],
   "source": [
    "authors = {'Bob', 'Ana', 'Kay', 'Will', 'Cyril', 'Smith'}\n",
    "def process_authors(authors):\n",
    "    \"\"\"\n",
    "    TODO: Store the authors in the database\n",
    "    \"\"\"\n",
    "    return authors\n",
    "\n",
    "batch = []\n",
    "for author in authors:\n",
    "    batch.append(author)\n",
    "    print(f'{batch=}')\n",
    "    if len(batch) > 2:\n",
    "        process_authors(batch)\n",
    "        batch.clear()\n",
    "        print(f'`batch` has been cleared: {batch=}')\n",
    "\n",
    "if len(batch) > 0:\n",
    "    process_authors(batch)\n",
    "    batch.clear()\n",
    "    print(f'`batch` has been cleared: {batch=}')"
   ]
  },
  {
   "cell_type": "markdown",
   "metadata": {},
   "source": [
    "### frozenset()\n",
    "Creates an immutable copy of the set that can be used as a hashable value. Useful for building dictionaries that contains sets as the keys."
   ]
  },
  {
   "cell_type": "code",
   "execution_count": 18,
   "metadata": {},
   "outputs": [
    {
     "name": "stdout",
     "output_type": "stream",
     "text": [
      "['computer', 'electronics']\n"
     ]
    }
   ],
   "source": [
    "author_patents = {\n",
    "    frozenset({'Ana'}): ['light bulb'],\n",
    "    frozenset({'Ana', 'Bob'}): ['computer', 'electronics'],\n",
    "    frozenset({'Bob'}): ['website']\n",
    "}\n",
    "\n",
    "print(author_patents[frozenset({'Ana', 'Bob'})])"
   ]
  },
  {
   "cell_type": "markdown",
   "metadata": {},
   "source": [
    "### copy()\n",
    "Copies the set to another variable. This is useful when a set needs to be updated without touching the original one."
   ]
  },
  {
   "cell_type": "code",
   "execution_count": 19,
   "metadata": {},
   "outputs": [
    {
     "name": "stdout",
     "output_type": "stream",
     "text": [
      "my_set={1, 2, 3}\n",
      "copy_set={1, 2, 3}\n",
      "my_set={1, 2, 3}\n",
      "copy_set=set()\n"
     ]
    }
   ],
   "source": [
    "def function_update_set(set_input):\n",
    "    \"\"\"\n",
    "    A function that updates the input set\n",
    "    \"\"\"\n",
    "    set_input.clear()\n",
    "\n",
    "my_set = {1,2,3}\n",
    "copy_set = my_set.copy()\n",
    "print(f'{my_set=}')\n",
    "print(f'{copy_set=}')\n",
    "function_update_set(copy_set)\n",
    "print(f'{my_set=}')\n",
    "print(f'{copy_set=}')"
   ]
  },
  {
   "cell_type": "markdown",
   "metadata": {},
   "source": [
    "### Set Comparison Functions\n",
    "These are functions that helps return the elements that are similar or different between 2 given sets."
   ]
  },
  {
   "cell_type": "code",
   "execution_count": 20,
   "metadata": {},
   "outputs": [
    {
     "name": "stdout",
     "output_type": "stream",
     "text": [
      "patent_1_authors.difference(patent_2_authors)={'Ana'}\n",
      "patent_1_authors.intersection(patent_2_authors)={'Bob'}\n",
      "patent_1_authors.union(patent_2_authors)={'Cyril', 'Will', 'Ana', 'Bob'}\n"
     ]
    }
   ],
   "source": [
    "patent_1_authors = {'Bob', 'Ana'}\n",
    "patent_2_authors = {'Will', 'Cyril', 'Bob'}\n",
    "\n",
    "# Returns the values that are in\n",
    "# `patent_1_authors` but not in `patent_2_authors`\n",
    "print(f'{patent_1_authors.difference(patent_2_authors)=}')\n",
    "\n",
    "# Returns the values that are in both sets\n",
    "print(f'{patent_1_authors.intersection(patent_2_authors)=}')\n",
    "\n",
    "# Returns the elements combination of values from both sets\n",
    "print(f'{patent_1_authors.union(patent_2_authors)=}')"
   ]
  },
  {
   "cell_type": "markdown",
   "metadata": {},
   "source": [
    "### Set Conditional Functions\n",
    "These are functions that helps compare 2 sets."
   ]
  },
  {
   "cell_type": "markdown",
   "metadata": {},
   "source": [
    "#### isdisjoint()\n",
    "Returns `True` if the 2 sets have no similar elements, otherwise, returns `False`."
   ]
  },
  {
   "cell_type": "code",
   "execution_count": 58,
   "metadata": {},
   "outputs": [
    {
     "name": "stdout",
     "output_type": "stream",
     "text": [
      "False\n"
     ]
    }
   ],
   "source": [
    "patent_1_authors = {'Bob', 'Ana'}\n",
    "patent_2_authors = {'Will', 'Cyril', 'Bob'}\n",
    "\n",
    "print(patent_1_authors.isdisjoint(patent_2_authors))"
   ]
  },
  {
   "cell_type": "markdown",
   "metadata": {},
   "source": [
    "#### issubset()\n",
    "Returns `True` if all elements within the set being compared is also in the other set."
   ]
  },
  {
   "cell_type": "code",
   "execution_count": 21,
   "metadata": {},
   "outputs": [
    {
     "name": "stdout",
     "output_type": "stream",
     "text": [
      "True\n"
     ]
    }
   ],
   "source": [
    "celestial_bodies = {'Sun','Earth', 'Moon'}\n",
    "solar_system_bodies = {'Sun', 'Mercury', 'Venus', 'Earth', 'Moon', 'Mars'}\n",
    "\n",
    "print(celestial_bodies.issubset(solar_system_bodies))"
   ]
  },
  {
   "cell_type": "markdown",
   "metadata": {},
   "source": [
    "#### issuperset()\n",
    "Returns `True` if the set being compared has all the elements in the other set."
   ]
  },
  {
   "cell_type": "code",
   "execution_count": 60,
   "metadata": {},
   "outputs": [
    {
     "name": "stdout",
     "output_type": "stream",
     "text": [
      "True\n"
     ]
    }
   ],
   "source": [
    "celestial_bodies = {'Sun','Earth', 'Moon'}\n",
    "solar_system_bodies = {'Sun', 'Mercury', 'Venus', 'Earth', 'Moon', 'Mars'}\n",
    "\n",
    "print(solar_system_bodies.issuperset(celestial_bodies))"
   ]
  },
  {
   "cell_type": "markdown",
   "metadata": {},
   "source": [
    "## Other notes\n",
    "When used as conditionals, a non-empty set is considered a `True` whereas an empty set is a `False`. Useful when needing to check whether the set is empty or not.\n",
    "\n",
    "**Considered means that it will pass the `if/else` statement but its value itself is not a boolean, ie `{1,2,3} != True`**"
   ]
  },
  {
   "cell_type": "code",
   "execution_count": 22,
   "metadata": {},
   "outputs": [
    {
     "name": "stdout",
     "output_type": "stream",
     "text": [
      "Ana\n",
      "Bob\n"
     ]
    }
   ],
   "source": [
    "authors = {'Bob', 'Ana'}\n",
    "\n",
    "while authors:\n",
    "    author = authors.pop()\n",
    "    print(author)\n",
    "\n",
    "# Another `pop()` will throw an error\n",
    "# authors.pop()"
   ]
  }
 ],
 "metadata": {
  "interpreter": {
   "hash": "767d51c1340bd893661ea55ea3124f6de3c7a262a8b4abca0554b478b1e2ff90"
  },
  "kernelspec": {
   "display_name": "Python 3.8.10 64-bit",
   "language": "python",
   "name": "python3"
  },
  "language_info": {
   "codemirror_mode": {
    "name": "ipython",
    "version": 3
   },
   "file_extension": ".py",
   "mimetype": "text/x-python",
   "name": "python",
   "nbconvert_exporter": "python",
   "pygments_lexer": "ipython3",
   "version": "3.8.10"
  },
  "orig_nbformat": 4
 },
 "nbformat": 4,
 "nbformat_minor": 2
}
