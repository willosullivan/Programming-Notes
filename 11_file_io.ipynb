{
 "cells": [
  {
   "cell_type": "markdown",
   "metadata": {},
   "source": [
    "# File I/O\n",
    "Discusses techniques for storing and retrieving data from files."
   ]
  },
  {
   "cell_type": "markdown",
   "metadata": {},
   "source": [
    "## open()\n",
    "`open()` provides an object for reading or writing files. It has a required parameter called `file` which is a string that contains the path of the file to be opened. It also has an optional parameter called `mode`, which determines whether we get read or write access to the file. By default, it will only give us `read` access.\n",
    "\n",
    "Some common `mode` values:\n",
    "- `r`: Allows reading the file as string\n",
    "- `w`: Allows writing to the file as string (overwriting the contents)\n",
    "- `w+`: Allows reading and writing to the file as string (overwriting the contents)\n",
    "- `a`: Allows writing to the end of the file as string\n",
    "- `a+`: Allows reading and writing to the end of the file as string\n",
    "\n",
    "More details can be found on Python's documentation:\n",
    "\n",
    "https://docs.python.org/3/library/functions.html#open\n",
    "\n",
    "**If not using in a `with` statement, always remember to close the file so that other applications can use it**"
   ]
  },
  {
   "cell_type": "code",
   "execution_count": 31,
   "metadata": {},
   "outputs": [],
   "source": [
    "readme_file = open('README.md')\n",
    "readme_file.close()\n",
    "\n",
    "with open('README.md') as readme_file:\n",
    "    pass"
   ]
  },
  {
   "cell_type": "markdown",
   "metadata": {},
   "source": [
    "## read()\n",
    "`read()` fetches the file and returns the output. Generally, this will output a string value unless the mode contains `b`, indicating a `bytes` instead. Useful when the file needs to be read and processed all at once (useful for **JSONs**).\n",
    "\n",
    "`read()` starts from the first value in the file and moves up to the end of the file. Once the end is reached, it no longer returns anything."
   ]
  },
  {
   "cell_type": "code",
   "execution_count": 1,
   "metadata": {},
   "outputs": [
    {
     "name": "stdout",
     "output_type": "stream",
     "text": [
      "{\n",
      "    \"author\": \"Bob\",\n",
      "    \"email\": \"bob@gmail.com\",\n",
      "    \"patents\": [\n",
      "        \"computer\",\n",
      "        \"electronics\",\n",
      "        \"website\"\n",
      "    ],\n",
      "    \"state\": \"California\"\n",
      "}\n",
      "\n"
     ]
    }
   ],
   "source": [
    "with open('author_patents.json') as json_file:\n",
    "    print(json_file.read())\n",
    "\n",
    "    # NOTE: This allows re-reading of the file\n",
    "    # If the file is small enough, store its contents in a variable instead to\n",
    "    # avoid reading too many times since it's slower than fetching from memory\n",
    "    # json_file.seek(0)\n",
    "\n",
    "    print(json_file.read())"
   ]
  },
  {
   "cell_type": "markdown",
   "metadata": {},
   "source": [
    "## readlines()\n",
    "`readlines()` fetches the file and returns the output as a list (separated by the `newline`). Generally, the list will contain string values unless the mode contains `b`, indicating a `bytes` instead. Useful when the file needs to be read line by line (useful for **CSVs**).\n",
    "\n",
    "`readlines()` starts from the first line in the file and moves up to the end of the file. Once the end is reached, it no longer returns anything."
   ]
  },
  {
   "cell_type": "code",
   "execution_count": 2,
   "metadata": {},
   "outputs": [
    {
     "name": "stdout",
     "output_type": "stream",
     "text": [
      "author,email,patents,state\n",
      "\n",
      "Ana,ana@yahoo.com,\"[\"\"computer\"\",\"\"electronics\"\",\"\"light bulb\"\"]\",California\n",
      "\n",
      "Bob,bob@gmail.com,\"[\"\"computer\"\",\"\"electronics\"\",\"\"website\"\"]\",California\n",
      "\n",
      "Kay,kay@hotmail.com,\"[\"\"aviation\"\"]\",\"New York\"\n",
      "\n"
     ]
    }
   ],
   "source": [
    "with open('author_patents.csv') as csv_file:\n",
    "    for line in csv_file.readlines():\n",
    "        print(line)\n",
    "\n",
    "    # NOTE: This allows re-reading of the file\n",
    "    # If the file is small enough, store its contents in a variable instead to\n",
    "    # avoid reading too many times since it's slower than fetching from memory\n",
    "    # csv_file.seek(0)\n",
    "\n",
    "    print(csv_file.read())"
   ]
  },
  {
   "cell_type": "markdown",
   "metadata": {},
   "source": [
    "## csv module\n",
    "`csv` module allows us to handle CSVs which we can use for storing a list of named values. Useful when used as temporary storage before moving the data to a database or when viewing the data in a spreadsheet."
   ]
  },
  {
   "cell_type": "code",
   "execution_count": 3,
   "metadata": {},
   "outputs": [
    {
     "name": "stdout",
     "output_type": "stream",
     "text": [
      "{\n",
      "  \"author\": \"Ana\",\n",
      "  \"email\": \"ana@yahoo.com\",\n",
      "  \"patents\": \"[\\\"computer\\\",\\\"electronics\\\",\\\"light bulb\\\"]\",\n",
      "  \"state\": \"California\"\n",
      "}\n",
      "{\n",
      "  \"author\": \"Bob\",\n",
      "  \"email\": \"bob@gmail.com\",\n",
      "  \"patents\": \"[\\\"computer\\\",\\\"electronics\\\",\\\"website\\\"]\",\n",
      "  \"state\": \"California\"\n",
      "}\n",
      "{\n",
      "  \"author\": \"Kay\",\n",
      "  \"email\": \"kay@hotmail.com\",\n",
      "  \"patents\": \"[\\\"aviation\\\"]\",\n",
      "  \"state\": \"New York\"\n",
      "}\n"
     ]
    }
   ],
   "source": [
    "import json\n",
    "from csv import DictReader\n",
    "\n",
    "with open('author_patents.csv') as csv_file:\n",
    "    csv_reader = DictReader(csv_file)\n",
    "    # csv_reader (DictReader) returns a list of dictionaries\n",
    "    for row in csv_reader:\n",
    "        # Convert the `patents` JSON String to a dictionary\n",
    "        # row['patents'] = json.loads(row['patents'])\n",
    "        print(\n",
    "            # Pretty print\n",
    "            json.dumps(row, indent=2)\n",
    "        )"
   ]
  }
 ],
 "metadata": {
  "interpreter": {
   "hash": "e7370f93d1d0cde622a1f8e1c04877d8463912d04d973331ad4851f04de6915a"
  },
  "kernelspec": {
   "display_name": "Python 3.8.10 64-bit",
   "language": "python",
   "name": "python3"
  },
  "language_info": {
   "codemirror_mode": {
    "name": "ipython",
    "version": 3
   },
   "file_extension": ".py",
   "mimetype": "text/x-python",
   "name": "python",
   "nbconvert_exporter": "python",
   "pygments_lexer": "ipython3",
   "version": "3.8.10"
  },
  "orig_nbformat": 4
 },
 "nbformat": 4,
 "nbformat_minor": 2
}
