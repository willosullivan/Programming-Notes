{
 "cells": [
  {
   "cell_type": "markdown",
   "metadata": {},
   "source": [
    "# Loops\n",
    "Allows a repeatable process to be executed by the application with a determined stopping condition. The loops can also be nested if necessary.\n",
    "\n",
    "**If the stopping condition is never met, the function will run until it is terminated**"
   ]
  },
  {
   "cell_type": "markdown",
   "metadata": {},
   "source": [
    "## `while` Loops\n",
    "`while` loops will continue to repeat the application code as long as the condition is met."
   ]
  },
  {
   "cell_type": "code",
   "execution_count": 1,
   "metadata": {},
   "outputs": [
    {
     "name": "stdout",
     "output_type": "stream",
     "text": [
      "asdasdas is not a number! Please try again.\n",
      "asdasdsa is not a number! Please try again.\n",
      "Your number was: 10\n"
     ]
    }
   ],
   "source": [
    "while not (my_number := input('Enter a number')).isnumeric():\n",
    "    print(f'{my_number} is not a number! Please try again.')\n",
    "\n",
    "print(f'Your number was: {my_number}')"
   ]
  },
  {
   "cell_type": "markdown",
   "metadata": {},
   "source": [
    "## `for` Loops\n",
    "`for` loops will execute application code for each of the elements in the collection."
   ]
  },
  {
   "cell_type": "code",
   "execution_count": 2,
   "metadata": {},
   "outputs": [
    {
     "name": "stdout",
     "output_type": "stream",
     "text": [
      "The following authors have a patent containing `computer`\n",
      "\t Ana, Bob\n"
     ]
    }
   ],
   "source": [
    "author_patents = {\n",
    "    'Ana': {'light bulb', 'computer', 'electronics'},\n",
    "    'Bob': {'website', 'computer', 'electronics'},\n",
    "    'Will': {'statistics', 'data science'}\n",
    "}\n",
    "\n",
    "patent_term = input('Enter a patent to search:')\n",
    "\n",
    "authors_found = set()\n",
    "\n",
    "for author in author_patents:\n",
    "    for patent in author_patents.get(author):\n",
    "        if patent_term in patent:\n",
    "            authors_found.add(author)\n",
    "\n",
    "print(\n",
    "    f'The following authors have a patent containing `{patent_term}`'\n",
    ")\n",
    "print('\\t', ', '.join(authors_found))"
   ]
  },
  {
   "cell_type": "markdown",
   "metadata": {},
   "source": [
    "## Breaking The Loop\n",
    "These are ways that the loop can be broken without needing to wait for the condition to be `False`."
   ]
  },
  {
   "cell_type": "markdown",
   "metadata": {},
   "source": [
    "### break\n",
    "This immediately breaks the loop once executed, even if the condition is still met. Useful when the rest of the execution is no longer necessary and the loop must be exited immediately."
   ]
  },
  {
   "cell_type": "code",
   "execution_count": 3,
   "metadata": {},
   "outputs": [
    {
     "name": "stdout",
     "output_type": "stream",
     "text": [
      "asdsad is not a number! Please try again.\n",
      "asdasd is not a number! Please try again.\n",
      "Exiting the program...\n",
      "Your number was: end\n"
     ]
    }
   ],
   "source": [
    "while not (my_number := input('Enter a number')).isnumeric():\n",
    "    if my_number == 'end':\n",
    "        print('Exiting the program...')\n",
    "        break\n",
    "    print(f'{my_number} is not a number! Please try again.')\n",
    "\n",
    "print(f'Your number was: {my_number}')"
   ]
  },
  {
   "cell_type": "markdown",
   "metadata": {},
   "source": [
    "### else\n",
    "The `else` block will only be executed if the loop exited because the condition is no longer `True`. Generally this means the loop did not encounter any `break` statements. Useful when there is a process that must only be executed when the loop completes without any breaks."
   ]
  },
  {
   "cell_type": "code",
   "execution_count": 5,
   "metadata": {},
   "outputs": [
    {
     "name": "stdout",
     "output_type": "stream",
     "text": [
      "asdasds is not a number! Please try again.\n",
      " is not a number! Please try again.\n",
      "Exiting the program...\n"
     ]
    }
   ],
   "source": [
    "while not (my_number := input('Enter a number')).isnumeric():\n",
    "    if my_number == 'end':\n",
    "        print('Exiting the program...')\n",
    "        break\n",
    "    print(f'{my_number} is not a number! Please try again.')\n",
    "else:\n",
    "    print(f'Your number was: {my_number}')"
   ]
  },
  {
   "cell_type": "markdown",
   "metadata": {},
   "source": [
    "### return\n",
    "When running inside a function, using the `return` statement early ends teh function, which also ends the loop immediately. Useful when the rest of the execution is no longer necessary and the loop must be exited immediately."
   ]
  },
  {
   "cell_type": "code",
   "execution_count": 8,
   "metadata": {},
   "outputs": [
    {
     "name": "stdout",
     "output_type": "stream",
     "text": [
      "Ana\n"
     ]
    }
   ],
   "source": [
    "def find_first_author(patent_term):\n",
    "    for author in author_patents:\n",
    "        for patent in author_patents.get(author):\n",
    "            if patent_term in patent:\n",
    "                return author\n",
    "    return 'Patent\\'s author not found!'\n",
    "\n",
    "\n",
    "author_patents = {\n",
    "    'Ana': {'light bulb', 'computer', 'electronics'},\n",
    "    'Bob': {'website', 'computer', 'electronics'},\n",
    "    'Will': {'statistics', 'data science'}\n",
    "}\n",
    "\n",
    "patent_term = input('Enter a patent to search:')\n",
    "\n",
    "author = find_first_author(patent_term=patent_term)\n",
    "print(author)"
   ]
  },
  {
   "cell_type": "markdown",
   "metadata": {},
   "source": [
    "## Collection comprehension\n",
    "Useful when a collection needs to be built from another collection. Depending on the situation, this can be more readable than the usual loop."
   ]
  },
  {
   "cell_type": "markdown",
   "metadata": {},
   "source": [
    "### Building a set/list from another collection"
   ]
  },
  {
   "cell_type": "code",
   "execution_count": 10,
   "metadata": {},
   "outputs": [],
   "source": [
    "# Consider this dictionary for the examples\n",
    "author_patent_locations = {\n",
    "    'Bob': {\n",
    "        'email': 'bob@gmail.com',\n",
    "        'patents': {'website', 'computer', 'electronics'},\n",
    "        'state': 'California'\n",
    "    },\n",
    "    'Ana': {\n",
    "        'email': 'ana@yahoo.com',\n",
    "        'patents': {'light bulb', 'computer', 'electronics'},\n",
    "        'state': 'California'\n",
    "    },\n",
    "    'Kay': {\n",
    "        'email': 'kay@hotmail.com',\n",
    "        'patents': {'aviation'},\n",
    "        'state': 'New York'\n",
    "    },\n",
    "}"
   ]
  },
  {
   "cell_type": "code",
   "execution_count": 11,
   "metadata": {},
   "outputs": [
    {
     "name": "stdout",
     "output_type": "stream",
     "text": [
      "state_with_patents={'New York', 'California'}\n"
     ]
    }
   ],
   "source": [
    "# Set Comprehension\n",
    "state_with_patents = {\n",
    "    info['state'] for info in author_patent_locations.values()\n",
    "}\n",
    "\n",
    "print(f'{state_with_patents=}')"
   ]
  },
  {
   "cell_type": "code",
   "execution_count": 68,
   "metadata": {},
   "outputs": [
    {
     "name": "stdout",
     "output_type": "stream",
     "text": [
      "state_with_patents={'New York', 'California'}\n"
     ]
    }
   ],
   "source": [
    "# Normal `for` loop\n",
    "state_with_patents = set()\n",
    "\n",
    "for info in author_patent_locations.values():\n",
    "    state_with_patents.add(info['state'])\n",
    "\n",
    "print(f'{state_with_patents=}')"
   ]
  },
  {
   "cell_type": "markdown",
   "metadata": {},
   "source": [
    "### Building dictionary from another collection"
   ]
  },
  {
   "cell_type": "code",
   "execution_count": 13,
   "metadata": {},
   "outputs": [
    {
     "name": "stdout",
     "output_type": "stream",
     "text": [
      "{'ana@yahoo.com': {'author': 'Ana',\n",
      "                   'email': 'ana@yahoo.com',\n",
      "                   'patents': {'computer', 'electronics', 'light bulb'},\n",
      "                   'state': 'California'},\n",
      " 'bob@gmail.com': {'author': 'Bob',\n",
      "                   'email': 'bob@gmail.com',\n",
      "                   'patents': {'computer', 'electronics', 'website'},\n",
      "                   'state': 'California'},\n",
      " 'kay@hotmail.com': {'author': 'Kay',\n",
      "                     'email': 'kay@hotmail.com',\n",
      "                     'patents': {'aviation'},\n",
      "                     'state': 'New York'}}\n"
     ]
    }
   ],
   "source": [
    "from pprint import pprint\n",
    "\n",
    "# Dict Comprehension\n",
    "\"\"\"\n",
    "author_patent_locations = {\n",
    "    'Bob': {\n",
    "        'email': 'bob@gmail.com',\n",
    "        'patents': {'website', 'computer', 'electronics'},\n",
    "        'state': 'California'\n",
    "    },\n",
    "    'Ana': {\n",
    "        'email': 'ana@yahoo.com',\n",
    "        'patents': {'light bulb', 'computer', 'electronics'},\n",
    "        'state': 'California'\n",
    "    },\n",
    "    'Kay': {\n",
    "        'email': 'kay@hotmail.com',\n",
    "        'patents': {'aviation'},\n",
    "        'state': 'New York'\n",
    "    },\n",
    "}\n",
    "\"\"\"\n",
    "author_email_patent_locations = {\n",
    "    info['email']: {\n",
    "        'author': author,\n",
    "        **info,\n",
    "    } for author, info in author_patent_locations.items()\n",
    "}\n",
    "\n",
    "pprint(author_email_patent_locations)"
   ]
  },
  {
   "cell_type": "code",
   "execution_count": 14,
   "metadata": {},
   "outputs": [
    {
     "name": "stdout",
     "output_type": "stream",
     "text": [
      "{'ana@yahoo.com': {'author': 'Ana',\n",
      "                   'email': 'ana@yahoo.com',\n",
      "                   'patents': {'computer', 'electronics', 'light bulb'},\n",
      "                   'state': 'California'},\n",
      " 'bob@gmail.com': {'author': 'Bob',\n",
      "                   'email': 'bob@gmail.com',\n",
      "                   'patents': {'computer', 'electronics', 'website'},\n",
      "                   'state': 'California'},\n",
      " 'kay@hotmail.com': {'author': 'Kay',\n",
      "                     'email': 'kay@hotmail.com',\n",
      "                     'patents': {'aviation'},\n",
      "                     'state': 'New York'}}\n"
     ]
    }
   ],
   "source": [
    "from pprint import pprint\n",
    "\n",
    "# Dict Comprehension\n",
    "author_email_patent_locations = {}\n",
    "\n",
    "for author, info in author_patent_locations.items():\n",
    "    author_email_patent_locations[info['email']] = {\n",
    "        'author': author,\n",
    "        **info\n",
    "    }\n",
    "\n",
    "pprint(author_email_patent_locations)"
   ]
  }
 ],
 "metadata": {
  "interpreter": {
   "hash": "767d51c1340bd893661ea55ea3124f6de3c7a262a8b4abca0554b478b1e2ff90"
  },
  "kernelspec": {
   "display_name": "Python 3.8.10 64-bit",
   "language": "python",
   "name": "python3"
  },
  "language_info": {
   "codemirror_mode": {
    "name": "ipython",
    "version": 3
   },
   "file_extension": ".py",
   "mimetype": "text/x-python",
   "name": "python",
   "nbconvert_exporter": "python",
   "pygments_lexer": "ipython3",
   "version": "3.8.10"
  },
  "orig_nbformat": 4
 },
 "nbformat": 4,
 "nbformat_minor": 2
}
