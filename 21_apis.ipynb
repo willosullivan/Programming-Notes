{
 "cells": [
  {
   "cell_type": "markdown",
   "metadata": {},
   "source": [
    "# Backend Options for GCP\n",
    "\n",
    "\n",
    "| | Notes | Use cases |\n",
    "|-|-|-|\n",
    "| VM Instances | Allows full control over the whole database server (You need to setup everything starting from the OS installation, to database configuration) | Used when the functionality you need is not supported by any of the other options. However, Cloud Run would be better as it can autoscale and the deployment is much more simplified |\n",
    "| Cloud Function | Only allows control on the processing logic and some network/authentication controls | Ideal for processes that are atomic such as fetching from the database, doing data transformation and returning the results. This can be analogous to Python functions. |\n",
    "| App Engine | You can think of this as a service that contains and combines multiple functions | Ideal for processes/services that need to communicate to each other. For example, a user must be logged in, have the correct permissions and have paid the subscription to listen to a Spotify music. This can be analogous to our \"main\" python script where we import and use different functions to achieve for the application to run. |\n",
    "| Cloud Run | You can think of this as dockerizing our whole script, which allows you to define the environment it runs as well. It is similar to when we dockerized our database, but in this case, the application is dockerized instead | Ideal for processes that needs more control over the environment such as having a Power BI application running in the background and is exposed using an API (Flask server for example) |\n",
    "\n",
    "Given that our API is atomic, that is, we only need to query from the database and return the results to the frontend, it should suffice for our case. But once we need additional functionality such as authentication, background processing, long running analysis (1 hour+), we will need to use App Engine or Cloud Run.\n",
    "\n",
    "However, as I've mentioned, since that API that we are building is atomic, it does not necessarily mean scraping the function once we need additional functionalities, we can build on top of it or alongside it, like for example, we have an App Engine that handles authentication and queries the Cloud Function on our behalf (instead of the Cloud Function directly)\n",
    "\n",
    "\n",
    "More details can be found here:\n",
    "https://www.sphereinc.com/blogs/when-to-choose-app-engine-vs-cloud-functions-or-cloud-run-in-gcp/"
   ]
  },
  {
   "cell_type": "markdown",
   "metadata": {},
   "source": [
    "## Cloud Functions\n",
    "\n",
    "Like mentioned earlier, you can think of this as an actual Python function wherein you have an input and do processes according to the input, then return a result.\n",
    "\n",
    "**Note that we will only use the 1st gen cloud function for now as the 2nd gen is not yet fully implemented**\n",
    "\n",
    "Some of the things that you need to take note of when creating:\n",
    "- `Region` - Defines the region where the function will be deployed. Usually, we pick the region near the expected users or within the same region as the services that we use (like `Cloud SQL`)\n",
    "- `Trigger` - Defines how the function is started (sometimes referred as \"called\", \"invoked\" or \"ran\")\n",
    "    - `HTTP` - The function will run when an HTTP request is made\n",
    "    - `Cloud Pub/Sub` - The function will run when a message is published to the corresponding topic (used in event based processing such as timers or when a user sends a message)\n",
    "    - `Cloud Storage` - The function will run according to changes in the Cloud Storage (used to process data when an object is uploaded, archived, deleted or updated)\n",
    "    - `Cloud Firestore` - Similar to storage but specifically for `Firestore`\n",
    "- `Runtime` - Defines the size, timeout and instance count of the function.\n",
    "    - It also defines the service account that is used by the function while running.\n",
    "    - It also contains the `Environment Variables` that are to be used on runtime.\n",
    "- `Connections` - Defines how the function can be reached. This can be used to make the function \"publicly accessible\" or not.\n",
    "- `Code` - The actual code that will be used for processing. This uses `Flask` in the backend for Python."
   ]
  }
 ],
 "metadata": {
  "language_info": {
   "name": "python"
  },
  "orig_nbformat": 4
 },
 "nbformat": 4,
 "nbformat_minor": 2
}
