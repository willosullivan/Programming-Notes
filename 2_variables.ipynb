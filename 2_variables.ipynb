{
 "cells": [
  {
   "cell_type": "markdown",
   "metadata": {},
   "source": [
    "# Types\n",
    "Everything in python is an object\n",
    "\n",
    "An object is a collection of `variables` and `methods`.\n",
    "- Because everything is an object, even the `variables` and `methods` are objects\n",
    "- A \"python class\" is the best example for an object"
   ]
  },
  {
   "cell_type": "markdown",
   "metadata": {},
   "source": [
    "## string"
   ]
  },
  {
   "cell_type": "code",
   "execution_count": 11,
   "metadata": {},
   "outputs": [
    {
     "name": "stdout",
     "output_type": "stream",
     "text": [
      "This is a string\n"
     ]
    }
   ],
   "source": [
    "variable = \"This is a string\"\n",
    "print(variable)"
   ]
  },
  {
   "cell_type": "markdown",
   "metadata": {},
   "source": [
    "## int"
   ]
  },
  {
   "cell_type": "code",
   "execution_count": 12,
   "metadata": {},
   "outputs": [
    {
     "name": "stdout",
     "output_type": "stream",
     "text": [
      "1234\n"
     ]
    }
   ],
   "source": [
    "variable = 1234\n",
    "print(variable)"
   ]
  },
  {
   "cell_type": "markdown",
   "metadata": {},
   "source": [
    "## float"
   ]
  },
  {
   "cell_type": "code",
   "execution_count": 7,
   "metadata": {},
   "outputs": [
    {
     "name": "stdout",
     "output_type": "stream",
     "text": [
      "1.234\n"
     ]
    }
   ],
   "source": [
    "variable = 1.234\n",
    "print(variable)"
   ]
  },
  {
   "cell_type": "markdown",
   "metadata": {},
   "source": [
    "## list"
   ]
  },
  {
   "cell_type": "code",
   "execution_count": 16,
   "metadata": {},
   "outputs": [
    {
     "name": "stdout",
     "output_type": "stream",
     "text": [
      "[1, 'a', 'list', 1.23, 1]\n"
     ]
    }
   ],
   "source": [
    "variable = [1, 'a', 'list', 1.23, 1]\n",
    "print(variable)"
   ]
  },
  {
   "cell_type": "markdown",
   "metadata": {},
   "source": [
    "## set"
   ]
  },
  {
   "cell_type": "code",
   "execution_count": 15,
   "metadata": {},
   "outputs": [
    {
     "name": "stdout",
     "output_type": "stream",
     "text": [
      "{1, 'a', 'list', 1.23}\n"
     ]
    }
   ],
   "source": [
    "variable = {1, 'a', 'list', 1.23, 1}\n",
    "print(variable)"
   ]
  },
  {
   "cell_type": "markdown",
   "metadata": {},
   "source": [
    "## tuple"
   ]
  },
  {
   "cell_type": "code",
   "execution_count": 14,
   "metadata": {},
   "outputs": [
    {
     "name": "stdout",
     "output_type": "stream",
     "text": [
      "(1, 'a', 'list', 1.23, 1)\n"
     ]
    }
   ],
   "source": [
    "variable = (1, 'a', 'list', 1.23, 1)\n",
    "print(variable)"
   ]
  },
  {
   "cell_type": "markdown",
   "metadata": {},
   "source": [
    "## dictionary"
   ]
  },
  {
   "cell_type": "code",
   "execution_count": 13,
   "metadata": {},
   "outputs": [
    {
     "name": "stdout",
     "output_type": "stream",
     "text": [
      "variable[\"a\"]='dictionary'\n",
      "variable[1]=['stuff']\n",
      "variable[1.232]=33\n",
      "variable[(1,2)]=[3, 4]\n"
     ]
    }
   ],
   "source": [
    "variable = {\n",
    "    'a': 'dictionary',\n",
    "    1: ['stuff'],\n",
    "    1.232: 33,\n",
    "    (1,2): [3,4]\n",
    "}\n",
    "print(f'{variable[\"a\"]=}')\n",
    "print(f'{variable[1]=}')\n",
    "print(f'{variable[1.232]=}')\n",
    "print(f'{variable[(1,2)]=}')"
   ]
  },
  {
   "cell_type": "markdown",
   "metadata": {},
   "source": [
    "## function"
   ]
  },
  {
   "cell_type": "code",
   "execution_count": 15,
   "metadata": {},
   "outputs": [
    {
     "name": "stdout",
     "output_type": "stream",
     "text": [
      "simple_function()='function result'\n",
      "function_with_no_return()=None\n",
      "function_with_parameter(required_parameter=\"my input\")=(\"required_parameter='my input'\", 'optional_parameter=None')\n",
      "function_with_parameter(required_parameter=123, optional_parameter=[3,2,1])=('required_parameter=123', 'optional_parameter=[3, 2, 1]')\n"
     ]
    }
   ],
   "source": [
    "def simple_function():\n",
    "    return 'function result'\n",
    "\n",
    "def function_with_no_return():\n",
    "    pass\n",
    "\n",
    "def function_with_parameter(required_parameter, optional_parameter=None):\n",
    "    return f'{required_parameter=}', f'{optional_parameter=}'\n",
    "\n",
    "print(f'{simple_function()=}')\n",
    "print(f'{function_with_no_return()=}')\n",
    "print(f'{function_with_parameter(required_parameter=\"my input\")=}')\n",
    "print(f'{function_with_parameter(required_parameter=123, optional_parameter=[3,2,1])=}')"
   ]
  },
  {
   "cell_type": "markdown",
   "metadata": {},
   "source": [
    "## class"
   ]
  },
  {
   "cell_type": "code",
   "execution_count": 19,
   "metadata": {},
   "outputs": [
    {
     "name": "stdout",
     "output_type": "stream",
     "text": [
      "WebPage.definition()='An application that can be visited via a browser'\n",
      "WebPage.page_data=<property object at 0x00000229940BD800>\n",
      "web_page=<__main__.WebPage object at 0x0000022994B2CB50>\n",
      "web_page.get_next_page()=<__main__.WebPage object at 0x0000022994B2FCD0>\n",
      "web_page.definition()='An application that can be visited via a browser'\n",
      "web_page.page_data='some html result'\n",
      "web_page=<__main__.WebPage object at 0x0000022994B2CB50>\n"
     ]
    }
   ],
   "source": [
    "class WebPage:\n",
    "    page_url = ''\n",
    "    def __init__(self, page_url):\n",
    "        self.page_url = page_url\n",
    "        self._page_result = self.get_page()\n",
    "        self.next_page_url = self._page_result['next_page']\n",
    "\n",
    "    def get_page(self):\n",
    "        return {\n",
    "            'page_data': 'some html result',\n",
    "            'next_page': f'{self.page_url}/next_page',\n",
    "        }\n",
    "\n",
    "    def get_next_page(self):\n",
    "        return WebPage(page_url=self.next_page_url)\n",
    "\n",
    "    @property\n",
    "    def page_data(self):\n",
    "        return self._page_result['page_data']\n",
    "\n",
    "    @staticmethod\n",
    "    def definition():\n",
    "        return \"An application that can be visited via a browser\"\n",
    "\n",
    "    #def __repr__(self):\n",
    "    #    return f'WebPage for: `{self.page_url}` [{id(self)=}]'\n",
    "\n",
    "\n",
    "print(f'{WebPage.definition()=}')\n",
    "print(f'{WebPage.page_data=}')\n",
    "\n",
    "\n",
    "web_page = WebPage(page_url='google.com')\n",
    "print(f'{web_page=}')\n",
    "print(f'{web_page.get_next_page()=}')\n",
    "print(f'{web_page.definition()=}')\n",
    "print(f'{web_page.page_data=}')\n",
    "\n",
    "web_page.page_url = 'random.com'\n",
    "print(f'{web_page=}')"
   ]
  },
  {
   "cell_type": "code",
   "execution_count": 17,
   "metadata": {},
   "outputs": [
    {
     "name": "stdout",
     "output_type": "stream",
     "text": [
      "\"string\".upper()='STRING'\n",
      "(3).bit_length()=2\n",
      "(1.00001).is_integer()=False\n"
     ]
    }
   ],
   "source": [
    "print(f'{\"string\".upper()=}')\n",
    "print(f'{(3).bit_length()=}')\n",
    "print(f'{(1.00001).is_integer()=}')"
   ]
  },
  {
   "cell_type": "markdown",
   "metadata": {},
   "source": [
    "# Asssignment Operations\n",
    "| Operator | Example | Equivalent to |\n",
    "| --- | --- | --- |\n",
    "| = | x = 5 | x = 5 |\n",
    "| += | x += 5 | x = x + 5 |\n",
    "| -= | x -= 5 | x = x - 5 |\n",
    "| *= | x *= 5 | x = x * 5 |\n",
    "| /= | x /= 5 | x = x / 5 |\n",
    "| %= | x %= 5 | x = x % 5 |\n",
    "| //= | x //= 5 | x = x // 5 |\n",
    "| **= | x **= 5 | x = x ** 5 |\n",
    "| &= | x &= 5 | x = x & 5 |\n",
    "| \\|= | x \\|= 5 | x = x \\| 5 |\n",
    "| ^= | x ^= 5 | x = x ^ 5 |\n",
    "| >>= | x >>= 5 | x = x >> 5 |\n",
    "| <<= | x <<= 5 | x = x << 5 |"
   ]
  },
  {
   "cell_type": "code",
   "execution_count": 20,
   "metadata": {},
   "outputs": [
    {
     "name": "stdout",
     "output_type": "stream",
     "text": [
      "integer=1\n",
      "integer=11\n"
     ]
    }
   ],
   "source": [
    "integer = 1\n",
    "print(f'{integer=}')\n",
    "integer += 10 # integer = integer + 10\n",
    "print(f'{integer=}')"
   ]
  },
  {
   "cell_type": "code",
   "execution_count": 22,
   "metadata": {},
   "outputs": [
    {
     "name": "stdout",
     "output_type": "stream",
     "text": [
      "string='hello'\n",
      "string='helloworld'\n"
     ]
    }
   ],
   "source": [
    "string = 'hello'\n",
    "print(f'{string=}')\n",
    "string += 'world'\n",
    "print(f'{string=}')"
   ]
  }
 ],
 "metadata": {
  "interpreter": {
   "hash": "328f1243ec1e2ba0e1519591ae4cf990ac53bbd6d3b113c7991c7fabd8bcda3b"
  },
  "kernelspec": {
   "display_name": "Python 3.10.2 64-bit",
   "language": "python",
   "name": "python3"
  },
  "language_info": {
   "codemirror_mode": {
    "name": "ipython",
    "version": 3
   },
   "file_extension": ".py",
   "mimetype": "text/x-python",
   "name": "python",
   "nbconvert_exporter": "python",
   "pygments_lexer": "ipython3",
   "version": "3.10.2"
  },
  "orig_nbformat": 4
 },
 "nbformat": 4,
 "nbformat_minor": 2
}
