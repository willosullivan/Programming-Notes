{
 "cells": [
  {
   "cell_type": "markdown",
   "metadata": {},
   "source": [
    "# Parallel Processing\n",
    "These are techniques that allow the Python script to execute code \"simultaneously\" within a given application. Useful when a process takes a long time (like calculating the first 1 trillion fibonacci numbers [**CPU bound**] or downloading a large file [**I/O bound**]), and this process must be repeated multiple times. Instead of waiting for the first process, the second process can execute alongside with it (and the third, depending on how it's coded).\n",
    "\n",
    "**CPU bound** is when the process is slow due to the amount of processing that the computer needs to do, like when calculating all digits of Pi.\n",
    "\n",
    "\n",
    "**Network bound** is when the process is slow due to operations that happen on storage, memory or network (download/upload), or anything that is not within the control of the CPU."
   ]
  },
  {
   "cell_type": "markdown",
   "metadata": {},
   "source": [
    "## Multiprocessing vs Multithreading vs Asyncio in Python\n",
    "| | Number of CPU used | Resources Used | Main use |\n",
    "| --- | --- | --- | --- |\n",
    "| Multiprocessing | As configured (maximum Core count of the computer) | 1 CPU core and Memory for **each** \"process\" | For CPU bound processes |\n",
    "| Multithreading | 1 | 1 Thread for **each** \"process\" and 1 memory for **all** \"processes\" | For I/O bound processes |\n",
    "| Asyncio | 1 | 1 CPU core and memory for **all** \"processes\" | For I/O bound processes |\n",
    "- \"Hyper threading\" allows 2 threads to be used for 1 CPU core\n",
    "- In Python, multithreading only executes 1 thread at a time even if multiple threads are used.\n",
    "\n",
    "Read more about it here:\n",
    "\n",
    "https://rednafi.github.io/digressions/python/2020/04/21/python-concurrent-futures.html#running-multiple-cpu-bound-subroutines-with-multi-processing"
   ]
  },
  {
   "cell_type": "markdown",
   "metadata": {},
   "source": [
    "## Multiprocessing\n",
    "This is the \"true\" parallelism because multiple \"child\" applications are actually ran when used. This allows each of the processes to have their own copy of the memory and their own CPU for processing.\n",
    "\n",
    "**Because a new process is spawned and its memory is copied, this uses more memory in general. This also means that there is a \"slightly longer\" delay (often called overhead) before the process is executed for each CPU**"
   ]
  },
  {
   "cell_type": "code",
   "execution_count": 4,
   "metadata": {},
   "outputs": [
    {
     "name": "stdout",
     "output_type": "stream",
     "text": [
      "Getting patents...\n",
      "Fetched `5902` out of `5902` patents...\n",
      "Getting patents...\n",
      "Fetched `5902` out of `5902` patents...\n",
      "Getting patents...\n",
      "Fetched `5902` out of `5902` patents...\n",
      "Getting patents...\n",
      "Fetched `5902` out of `5902` patents...\n",
      "Getting patents...\n",
      "Fetched `5902` out of `5902` patents...\n"
     ]
    }
   ],
   "source": [
    "from concurrent.futures import ProcessPoolExecutor, as_completed\n",
    "from patents_view_api.api_utils import get_patents\n",
    "\n",
    "# Copied from the URL calculated by the script\n",
    "URLs = [\n",
    "    'https://api.patentsview.org/patents/query?q=%7B%22_and%22%3A+%5B%7B%22_gte%22%3A+%7B%22patent_date%22%3A+%221980-01-01%22%7D%7D%2C+%7B%22_lte%22%3A+%7B%22patent_date%22%3A+%221980-01-31%22%7D%7D%5D%7D&f=%5B%22patent_id%22%2C+%22patent_number%22%2C+%22patent_title%22%2C+%22patent_date%22%2C+%22patent_type%22%2C+%22patent_num_us_patent_citations%22%2C+%22inventor_first_name%22%2C+%22inventor_last_name%22%2C+%22inventor_longitude%22%2C+%22inventor_latitude%22%2C+%22inventor_city%22%2C+%22inventor_state%22%5D&o=%7B%22page%22%3A+1%2C+%22per_page%22%3A+10000%7D'\n",
    "] * 5\n",
    "\n",
    "for url in URLs:\n",
    "    response = get_patents(url)\n",
    "    print(f'Fetched `{response[\"count\"]}` out of `{response[\"total_patent_count\"]}` patents...')\n"
   ]
  },
  {
   "cell_type": "code",
   "execution_count": 5,
   "metadata": {},
   "outputs": [
    {
     "name": "stdout",
     "output_type": "stream",
     "text": [
      "Getting patents...Getting patents...Getting patents...Getting patents...\n",
      "\n",
      "\n",
      "Getting patents...\n",
      "\n",
      "Fetched `5902` out of `5902` patents...\n",
      "Fetched `5902` out of `5902` patents...\n",
      "Fetched `5902` out of `5902` patents...\n",
      "Fetched `5902` out of `5902` patents...\n",
      "Fetched `5902` out of `5902` patents...\n"
     ]
    }
   ],
   "source": [
    "from concurrent.futures import ProcessPoolExecutor, as_completed\n",
    "from patents_view_api.api_utils import get_patents\n",
    "\n",
    "# Copied from the URL calculated by the script\n",
    "URLs = [\n",
    "    'https://api.patentsview.org/patents/query?q=%7B%22_and%22%3A+%5B%7B%22_gte%22%3A+%7B%22patent_date%22%3A+%221980-01-01%22%7D%7D%2C+%7B%22_lte%22%3A+%7B%22patent_date%22%3A+%221980-01-31%22%7D%7D%5D%7D&f=%5B%22patent_id%22%2C+%22patent_number%22%2C+%22patent_title%22%2C+%22patent_date%22%2C+%22patent_type%22%2C+%22patent_num_us_patent_citations%22%2C+%22inventor_first_name%22%2C+%22inventor_last_name%22%2C+%22inventor_longitude%22%2C+%22inventor_latitude%22%2C+%22inventor_city%22%2C+%22inventor_state%22%5D&o=%7B%22page%22%3A+1%2C+%22per_page%22%3A+10000%7D'\n",
    "] * 5\n",
    "\n",
    "# Alot the resources for Multiprocessing\n",
    "with ProcessPoolExecutor() as executor:\n",
    "    futures = {\n",
    "        executor.submit(get_patents, url) for url in URLs\n",
    "    }\n",
    "    for future in as_completed(futures):\n",
    "        response = future.result()\n",
    "        print(f'Fetched `{response[\"count\"]}` out of `{response[\"total_patent_count\"]}` patents...')"
   ]
  },
  {
   "cell_type": "markdown",
   "metadata": {},
   "source": [
    "## Multithreading\n",
    "This executes the processes into multiple threads. This allows each of the processes to have their own thread for processing. However, even though the processes are split into different threads, only 1 thread is executed by Python at a time.\n",
    "\n",
    "**Because a thread is spawned for the processing and the memory are shared, there is a \"slightly shorter\" delay as compared to multiprocessing**"
   ]
  },
  {
   "cell_type": "code",
   "execution_count": 7,
   "metadata": {},
   "outputs": [
    {
     "name": "stdout",
     "output_type": "stream",
     "text": [
      "Getting patents...\n",
      "Getting patents...\n",
      "Getting patents...\n",
      "Getting patents...\n",
      "Getting patents...\n",
      "Fetched `5902` out of `5902` patents...\n",
      "Fetched `5902` out of `5902` patents...\n",
      "Fetched `5902` out of `5902` patents...\n",
      "Fetched `5902` out of `5902` patents...\n",
      "Fetched `5902` out of `5902` patents...\n"
     ]
    }
   ],
   "source": [
    "from concurrent.futures import ThreadPoolExecutor, as_completed\n",
    "from patents_view_api.api_utils import get_patents\n",
    "\n",
    "# Copied from the URL calculated by the script\n",
    "URLs = [\n",
    "    'https://api.patentsview.org/patents/query?q=%7B%22_and%22%3A+%5B%7B%22_gte%22%3A+%7B%22patent_date%22%3A+%221980-01-01%22%7D%7D%2C+%7B%22_lte%22%3A+%7B%22patent_date%22%3A+%221980-01-31%22%7D%7D%5D%7D&f=%5B%22patent_id%22%2C+%22patent_number%22%2C+%22patent_title%22%2C+%22patent_date%22%2C+%22patent_type%22%2C+%22patent_num_us_patent_citations%22%2C+%22inventor_first_name%22%2C+%22inventor_last_name%22%2C+%22inventor_longitude%22%2C+%22inventor_latitude%22%2C+%22inventor_city%22%2C+%22inventor_state%22%5D&o=%7B%22page%22%3A+1%2C+%22per_page%22%3A+10000%7D'\n",
    "] * 5\n",
    "\n",
    "with ThreadPoolExecutor() as executor:\n",
    "    futures = {\n",
    "        executor.submit(get_patents, url) for url in URLs\n",
    "    }\n",
    "    for future in as_completed(futures):\n",
    "        response = future.result()\n",
    "        print(f'Fetched `{response[\"count\"]}` out of `{response[\"total_patent_count\"]}` patents...')"
   ]
  },
  {
   "cell_type": "markdown",
   "metadata": {},
   "source": [
    "## Asyncio\n",
    "This executes the processes into a single thread but allows processes to \"wait on the side\" while another process is executed. This allows the application to only use a single thread while still allowing multiple \"waiting\" processes to be executed. However, the function is written differently so that Python knows what can be \"awaited\".\n",
    "\n",
    "**Because there is no thread, CPU or memory being spawned, this has the slowest delay as compared to the other 2**\n",
    "\n",
    "In python, this will generally be better than threading. However, not all packages support asyncio yet. In those packages, threading is the only option for I/O bound processes."
   ]
  },
  {
   "cell_type": "code",
   "execution_count": 2,
   "metadata": {},
   "outputs": [
    {
     "name": "stdout",
     "output_type": "stream",
     "text": [
      "Getting patents...\n",
      "Getting patents...\n",
      "Getting patents...\n",
      "Getting patents...\n",
      "Getting patents...\n",
      "Fetched `5902` out of `5902` patents...\n",
      "Fetched `5902` out of `5902` patents...\n",
      "Fetched `5902` out of `5902` patents...\n",
      "Fetched `5902` out of `5902` patents...\n",
      "Fetched `5902` out of `5902` patents...\n"
     ]
    }
   ],
   "source": [
    "import asyncio\n",
    "from patents_view_api.api_utils import async_get_patents\n",
    "\n",
    "# Copied from the URL calculated by the script\n",
    "URLs = [\n",
    "    'https://api.patentsview.org/patents/query?q=%7B%22_and%22%3A+%5B%7B%22_gte%22%3A+%7B%22patent_date%22%3A+%221980-01-01%22%7D%7D%2C+%7B%22_lte%22%3A+%7B%22patent_date%22%3A+%221980-01-31%22%7D%7D%5D%7D&f=%5B%22patent_id%22%2C+%22patent_number%22%2C+%22patent_title%22%2C+%22patent_date%22%2C+%22patent_type%22%2C+%22patent_num_us_patent_citations%22%2C+%22inventor_first_name%22%2C+%22inventor_last_name%22%2C+%22inventor_longitude%22%2C+%22inventor_latitude%22%2C+%22inventor_city%22%2C+%22inventor_state%22%5D&o=%7B%22page%22%3A+1%2C+%22per_page%22%3A+10000%7D'\n",
    "] * 5\n",
    "\n",
    "async def async_process():\n",
    "    tasks = []\n",
    "    for url in URLs:\n",
    "        task = asyncio.ensure_future(async_get_patents(url))\n",
    "        tasks.append(task)\n",
    "\n",
    "    '''\n",
    "    NOTE: Doing the following will make it synchronous:\n",
    "    for url in URLs:\n",
    "        respones = await async_get_patents(url)\n",
    "    \n",
    "    This is because each URL will be \"awaited\" before it moves on to the next URL\n",
    "    '''\n",
    "\n",
    "    for task in asyncio.as_completed(tasks):\n",
    "        response = await task\n",
    "        print(f'Fetched `{response[\"count\"]}` out of `{response[\"total_patent_count\"]}` patents...')\n",
    "\n",
    "asyncio.run(async_process())"
   ]
  }
 ],
 "metadata": {
  "interpreter": {
   "hash": "e7370f93d1d0cde622a1f8e1c04877d8463912d04d973331ad4851f04de6915a"
  },
  "kernelspec": {
   "display_name": "Python 3.8.10 64-bit",
   "language": "python",
   "name": "python3"
  },
  "language_info": {
   "codemirror_mode": {
    "name": "ipython",
    "version": 3
   },
   "file_extension": ".py",
   "mimetype": "text/x-python",
   "name": "python",
   "nbconvert_exporter": "python",
   "pygments_lexer": "ipython3",
   "version": "3.8.10"
  },
  "orig_nbformat": 4
 },
 "nbformat": 4,
 "nbformat_minor": 2
}
